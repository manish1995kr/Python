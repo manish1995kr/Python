{
 "cells": [
  {
   "cell_type": "markdown",
   "id": "7446520e",
   "metadata": {},
   "source": [
    "# Condition"
   ]
  },
  {
   "cell_type": "code",
   "execution_count": 1,
   "id": "3d456d05",
   "metadata": {},
   "outputs": [
    {
     "name": "stdout",
     "output_type": "stream",
     "text": [
      "a is largest\n"
     ]
    }
   ],
   "source": [
    "a = 10\n",
    "b = 5\n",
    "if a>b:\n",
    "    print('a is largest')\n",
    "elif a ==b:\n",
    "    print('b is largest')\n",
    "else:\n",
    "    print('b is largest')"
   ]
  },
  {
   "cell_type": "code",
   "execution_count": 6,
   "id": "77f448d8",
   "metadata": {},
   "outputs": [
    {
     "name": "stdout",
     "output_type": "stream",
     "text": [
      "any two no. is eqal\n"
     ]
    }
   ],
   "source": [
    "a = 5\n",
    "b = 5\n",
    "c = 5\n",
    "if a<b and a<c:\n",
    "    print('a is smaller')\n",
    "elif b<c and b<a:\n",
    "    print('b is smaller')\n",
    "elif c<a and c<b:\n",
    "    print('c is smaller')\n",
    "elif a==b or a==c or b==c:\n",
    "    print('any two no. is eqal')\n",
    "else:\n",
    "    print('all three no. are equal')"
   ]
  },
  {
   "cell_type": "code",
   "execution_count": 12,
   "id": "a1e3ca6b",
   "metadata": {},
   "outputs": [
    {
     "name": "stdout",
     "output_type": "stream",
     "text": [
      "a is equal to c\n"
     ]
    }
   ],
   "source": [
    "a = 5\n",
    "b = 8\n",
    "c = 5\n",
    "if a<b and a<c:\n",
    "    print('a is smaller')\n",
    "elif b<c and b<a:\n",
    "    print('b is smaller')\n",
    "elif c<a and c<b:\n",
    "    print('c is smaller')\n",
    "elif a==b==c:\n",
    "    print('all three no. are equal')\n",
    "elif a==b:\n",
    "    print('a is equal to b')\n",
    "elif a==c:\n",
    "    print('a is equal to c')\n",
    "elif b==c:\n",
    "    print('b is equal to c')\n",
    "    "
   ]
  },
  {
   "cell_type": "code",
   "execution_count": 51,
   "id": "9e3aa769",
   "metadata": {},
   "outputs": [
    {
     "name": "stdout",
     "output_type": "stream",
     "text": [
      "Enter the Weather for sunny = s, Rain = r, Stormy = st, cold = c\n",
      "Enter the Weather :s\n",
      "I will play\n"
     ]
    }
   ],
   "source": [
    "print(\"Enter the Weather for sunny = s, Rain = r, Stormy = st, cold = c\")\n",
    "\n",
    "w = input(\"Enter the Weather :\")\n",
    "if w=='s' or w=='c':\n",
    "    print('I will play')\n",
    "elif w=='r' or w=='st':\n",
    "    print(' I will not play')\n",
    "else:\n",
    "    print('you type the wrong weather')\n"
   ]
  },
  {
   "cell_type": "code",
   "execution_count": 52,
   "id": "bb1b4122",
   "metadata": {},
   "outputs": [
    {
     "name": "stdout",
     "output_type": "stream",
     "text": [
      "Enter the Weather for sunny = s, Rain = r, Stormy = st, cold = c\n",
      "Enter the Weather :s\n"
     ]
    }
   ],
   "source": [
    "print(\"Enter the Weather for sunny = s, Rain = r, Stormy = st, cold = c\")\n",
    "\n",
    "w = input(\"Enter the Weather :\")"
   ]
  },
  {
   "cell_type": "code",
   "execution_count": 56,
   "id": "ca78c3ff",
   "metadata": {},
   "outputs": [
    {
     "name": "stdout",
     "output_type": "stream",
     "text": [
      "Type your User ID and Password for login to the website\n",
      "Enter the User ID :manish\n",
      "enter the password :1234\n",
      "welcome to website\n"
     ]
    }
   ],
   "source": [
    "print('Type your User ID and Password for login to the website')\n",
    "id = input('Enter the User ID :')\n",
    "password = input('enter the password :')\n",
    "if id=='manish' and password=='1234':\n",
    "    print('welcome to website')\n",
    "else:\n",
    "    print('try again')"
   ]
  },
  {
   "cell_type": "code",
   "execution_count": null,
   "id": "97e22ab3",
   "metadata": {},
   "outputs": [],
   "source": []
  }
 ],
 "metadata": {
  "kernelspec": {
   "display_name": "Python 3",
   "language": "python",
   "name": "python3"
  },
  "language_info": {
   "codemirror_mode": {
    "name": "ipython",
    "version": 3
   },
   "file_extension": ".py",
   "mimetype": "text/x-python",
   "name": "python",
   "nbconvert_exporter": "python",
   "pygments_lexer": "ipython3",
   "version": "3.8.8"
  }
 },
 "nbformat": 4,
 "nbformat_minor": 5
}
