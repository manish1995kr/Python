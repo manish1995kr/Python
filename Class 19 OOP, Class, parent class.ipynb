{
 "cells": [
  {
   "cell_type": "markdown",
   "id": "af1ee382",
   "metadata": {},
   "source": [
    "# Object Oriented Programming"
   ]
  },
  {
   "cell_type": "code",
   "execution_count": 1,
   "id": "176a9af6",
   "metadata": {},
   "outputs": [],
   "source": [
    "class class_name:\n",
    "    a = 10\n",
    "    b = 20\n",
    "obj = class_name()"
   ]
  },
  {
   "cell_type": "code",
   "execution_count": 2,
   "id": "8a6ec435",
   "metadata": {},
   "outputs": [
    {
     "data": {
      "text/plain": [
       "<__main__.class_name at 0x19428276040>"
      ]
     },
     "execution_count": 2,
     "metadata": {},
     "output_type": "execute_result"
    }
   ],
   "source": [
    "obj"
   ]
  },
  {
   "cell_type": "code",
   "execution_count": 3,
   "id": "a34f287d",
   "metadata": {},
   "outputs": [
    {
     "data": {
      "text/plain": [
       "10"
      ]
     },
     "execution_count": 3,
     "metadata": {},
     "output_type": "execute_result"
    }
   ],
   "source": [
    "obj.a"
   ]
  },
  {
   "cell_type": "code",
   "execution_count": 4,
   "id": "86d0b40c",
   "metadata": {},
   "outputs": [
    {
     "data": {
      "text/plain": [
       "20"
      ]
     },
     "execution_count": 4,
     "metadata": {},
     "output_type": "execute_result"
    }
   ],
   "source": [
    "obj.b"
   ]
  },
  {
   "cell_type": "code",
   "execution_count": 8,
   "id": "77ffd478",
   "metadata": {},
   "outputs": [
    {
     "name": "stdout",
     "output_type": "stream",
     "text": [
      "10 20\n"
     ]
    }
   ],
   "source": [
    "print(obj.a,obj.b)"
   ]
  },
  {
   "cell_type": "markdown",
   "id": "39aa0416",
   "metadata": {},
   "source": [
    "# Type of Variables inside class and object:-"
   ]
  },
  {
   "cell_type": "code",
   "execution_count": 10,
   "id": "83a11d73",
   "metadata": {},
   "outputs": [
    {
     "name": "stdout",
     "output_type": "stream",
     "text": [
      "the car is great at higherspeed and mileage\n"
     ]
    }
   ],
   "source": [
    "class Student:\n",
    "    student_type = \"college\"      #class attribute/variable\n",
    "    def __init__(self,a,b,c):\n",
    "        self.a = a                    #instance attribute\n",
    "        self.b = b                    #instance attribute\n",
    "        self.c = c                    #instance attribute\n",
    "    def show(self):\n",
    "        print(f\"the {self.a} is great at {self.b} and {self.c}\")\n",
    "stud = Student(\"car\",\"higherspeed\",\"mileage\")\n",
    "stud.show()"
   ]
  },
  {
   "cell_type": "code",
   "execution_count": 12,
   "id": "a28ed6a1",
   "metadata": {},
   "outputs": [
    {
     "name": "stdout",
     "output_type": "stream",
     "text": [
      "the car is great at higherspeed and mileage,this is Ferari 340sx\n"
     ]
    }
   ],
   "source": [
    "class Student:\n",
    "    student_type = \"college\"      #class attribute/variable\n",
    "    def __init__(self,a,b,c):\n",
    "        self.a = a                    #instance attribute\n",
    "        self.b = b                    #instance attribute\n",
    "        self.c = c                    #instance attribute\n",
    "    def show(self,x):\n",
    "        print(f\"the {self.a} is great at {self.b} and {self.c},this is {x}\")\n",
    "stud = Student(\"car\",\"higherspeed\",\"mileage\")\n",
    "stud.show(\"Ferari 340sx\")"
   ]
  },
  {
   "cell_type": "code",
   "execution_count": 13,
   "id": "0cf7f2d4",
   "metadata": {},
   "outputs": [
    {
     "data": {
      "text/plain": [
       "'college'"
      ]
     },
     "execution_count": 13,
     "metadata": {},
     "output_type": "execute_result"
    }
   ],
   "source": [
    "stud.student_type"
   ]
  },
  {
   "cell_type": "code",
   "execution_count": 1,
   "id": "15ee21d2",
   "metadata": {},
   "outputs": [
    {
     "name": "stdout",
     "output_type": "stream",
     "text": [
      "the car is great at higherspeed and mileage this is Ferari340sx\n"
     ]
    }
   ],
   "source": [
    "class Student:\n",
    "    student_type = \"college\"      #class attribute/variable\n",
    "\n",
    "    def show(self,a,b,c,x):\n",
    "        print(f\"the {a} is great at {b} and {c} this is {x}\")\n",
    "stud = Student()\n",
    "stud.show(\"car\",\"higherspeed\",\"mileage\",\"Ferari340sx\")"
   ]
  },
  {
   "cell_type": "markdown",
   "id": "5d482d70",
   "metadata": {},
   "source": [
    "# Construct a class car with attributes max speed and mileage\n",
    "also define a method description which prints the name max speed and mileage of cars.\n",
    "and one more method named as sitting capacity and u need to print the sitting capacity of the car"
   ]
  },
  {
   "cell_type": "code",
   "execution_count": 32,
   "id": "b33339a2",
   "metadata": {},
   "outputs": [
    {
     "name": "stdout",
     "output_type": "stream",
     "text": [
      "the speed is 200 and the mileage is 10kmpl\n"
     ]
    }
   ],
   "source": [
    "class car:\n",
    "    def __init__(self,max_speed,mileage,sitting_capacity):\n",
    "        self.max_speed = max_speed\n",
    "        self.mileage = mileage\n",
    "        self.sitting_capacity = sitting_capacity\n",
    "    def description(self):\n",
    "        print(f\"the speed is {self.max_speed} and the mileage is {self.mileage}\")\n",
    "    def sitting_capacity(self):\n",
    "        print(f\"sitting capacity is {self.sitting_capacity}\")\n",
    "     \n",
    "obj = car(\"200\",\"10kmpl\",\"2\")\n",
    "obj.description()"
   ]
  },
  {
   "cell_type": "code",
   "execution_count": 49,
   "id": "694f17ca",
   "metadata": {},
   "outputs": [
    {
     "name": "stdout",
     "output_type": "stream",
     "text": [
      "employee details are : ankur kaushik 25578\n",
      "ankur kaushik\n"
     ]
    }
   ],
   "source": [
    "class person:\n",
    "    def __init__(self,firstname,lastname):\n",
    "        self.firstname = firstname\n",
    "        self.lastname = lastname\n",
    "        \n",
    "    def printname(self):\n",
    "        print(self.firstname,self.lastname)\n",
    "        \n",
    "class employee(person):\n",
    "    def __init__(self,firstname,lastname,emp_id):\n",
    "        self.emp_id = emp_id\n",
    "        super().__init__(firstname,lastname)\n",
    "        \n",
    "        person.__init__(self,firstname,lastname)\n",
    "        \n",
    "    def details(self):\n",
    "        print('employee details are :',self.firstname,self.lastname,self.emp_id)\n",
    "        \n",
    "obj = employee('ankur','kaushik',25578)\n",
    "obj.details()\n",
    "obj.printname()"
   ]
  },
  {
   "cell_type": "code",
   "execution_count": 3,
   "id": "4c0c52e7",
   "metadata": {},
   "outputs": [
    {
     "name": "stdout",
     "output_type": "stream",
     "text": [
      "the laptop starts from 30K...\n",
      "lenovo I3 1 2\n",
      "the computer needs to have i3 and 500 GB HDD\n",
      "lenovo I3\n"
     ]
    }
   ],
   "source": [
    "class computer:\n",
    "    def __init__(self,a,b):\n",
    "        self.a = a\n",
    "        self.b = b\n",
    "    def hardware(self):\n",
    "        print(\"the computer needs to have i3 and 500 GB HDD\")\n",
    "        print(self.a,self.b)\n",
    "class laptop(computer):\n",
    "    def __init__(self,a,b,c,d):\n",
    "        self.c = c\n",
    "        self.d = d\n",
    "        super().__init__(a,b)\n",
    "    def details(self):\n",
    "        print(\"the laptop starts from 30K...\")\n",
    "        print(self.a,self.b,self.c,self.d)\n",
    "    \n",
    "lappy = laptop(\"lenovo\",\"I3\",1,2)\n",
    "lappy.details()\n",
    "lappy.hardware()"
   ]
  },
  {
   "cell_type": "code",
   "execution_count": 4,
   "id": "8b889b14",
   "metadata": {},
   "outputs": [
    {
     "name": "stdout",
     "output_type": "stream",
     "text": [
      "the computer needs to have i3 and 500 GB HDD\n",
      "23 24\n"
     ]
    }
   ],
   "source": [
    "comp = computer(23,24)\n",
    "comp.hardware()"
   ]
  },
  {
   "cell_type": "code",
   "execution_count": null,
   "id": "efcb6705",
   "metadata": {},
   "outputs": [],
   "source": []
  }
 ],
 "metadata": {
  "kernelspec": {
   "display_name": "Python 3",
   "language": "python",
   "name": "python3"
  },
  "language_info": {
   "codemirror_mode": {
    "name": "ipython",
    "version": 3
   },
   "file_extension": ".py",
   "mimetype": "text/x-python",
   "name": "python",
   "nbconvert_exporter": "python",
   "pygments_lexer": "ipython3",
   "version": "3.8.8"
  }
 },
 "nbformat": 4,
 "nbformat_minor": 5
}
