{
 "cells": [
  {
   "cell_type": "markdown",
   "id": "d01e4b24",
   "metadata": {},
   "source": [
    "# write a program to print the factorial of a number."
   ]
  },
  {
   "cell_type": "code",
   "execution_count": 14,
   "id": "35e25315",
   "metadata": {},
   "outputs": [
    {
     "name": "stdout",
     "output_type": "stream",
     "text": [
      "Enter the Number for factorial : 5\n",
      "120\n"
     ]
    }
   ],
   "source": [
    "fact = int(input('Enter the Number for factorial : '))\n",
    "if fact<0:\n",
    "    print('factorial not possible')\n",
    "elif fact==0 or fact==1:\n",
    "    print('Fact is 1')\n",
    "else:\n",
    "    f = 1\n",
    "    for i in range(1,fact+1):\n",
    "        f = f*i\n",
    "    print(f)"
   ]
  },
  {
   "cell_type": "markdown",
   "id": "8be2e8f3",
   "metadata": {},
   "source": [
    "# write a program to print the factor of the number."
   ]
  },
  {
   "cell_type": "code",
   "execution_count": 28,
   "id": "80b3e606",
   "metadata": {},
   "outputs": [
    {
     "name": "stdout",
     "output_type": "stream",
     "text": [
      "Enter the number to get the factor : 10\n",
      "1\n",
      "2\n",
      "5\n",
      "10\n"
     ]
    }
   ],
   "source": [
    "factor = int(input('Enter the number to get the factor : '))\n",
    "for i in range(1,factor+1):\n",
    "    if factor%i==0:\n",
    "        print(i)"
   ]
  },
  {
   "cell_type": "markdown",
   "id": "e963f5b8",
   "metadata": {},
   "source": [
    "# write a program to print the count of the factor number."
   ]
  },
  {
   "cell_type": "code",
   "execution_count": 42,
   "id": "b896b0c5",
   "metadata": {},
   "outputs": [
    {
     "name": "stdout",
     "output_type": "stream",
     "text": [
      "Enter the number to get the factor : 10\n",
      "1\n",
      "2\n",
      "5\n",
      "10\n",
      "no. of factors are:  4\n",
      "no. is composite:  10\n"
     ]
    }
   ],
   "source": [
    "factor = int(input('Enter the number to get the factor : '))\n",
    "count=0\n",
    "for i in range(1,factor+1):\n",
    "    if factor%i==0:\n",
    "        print(i)\n",
    "        count = count+1\n",
    "print('no. of factors are: ',count)\n",
    "if count>2:\n",
    "    print('no. is composite: ',factor)\n",
    "else:\n",
    "    print('no. is prime', factor)"
   ]
  },
  {
   "cell_type": "markdown",
   "id": "75e23082",
   "metadata": {},
   "source": [
    "# l=[1,3,5,10,12]\n",
    "count the no.\n",
    "sum of the no."
   ]
  },
  {
   "cell_type": "code",
   "execution_count": 48,
   "id": "7966013f",
   "metadata": {},
   "outputs": [
    {
     "name": "stdout",
     "output_type": "stream",
     "text": [
      "Count of the no. in list : 5\n",
      "The sum of the no. in list : 31\n"
     ]
    }
   ],
   "source": [
    "l=[1,3,5,10,12]\n",
    "c=0\n",
    "d=0\n",
    "for i in l:\n",
    "    c=c+1\n",
    "    d=i+d\n",
    "print('Count of the no. in list :', c)\n",
    "print('The sum of the no. in list :', d)"
   ]
  },
  {
   "cell_type": "code",
   "execution_count": null,
   "id": "c202b0b5",
   "metadata": {},
   "outputs": [],
   "source": []
  }
 ],
 "metadata": {
  "kernelspec": {
   "display_name": "Python 3",
   "language": "python",
   "name": "python3"
  },
  "language_info": {
   "codemirror_mode": {
    "name": "ipython",
    "version": 3
   },
   "file_extension": ".py",
   "mimetype": "text/x-python",
   "name": "python",
   "nbconvert_exporter": "python",
   "pygments_lexer": "ipython3",
   "version": "3.8.8"
  }
 },
 "nbformat": 4,
 "nbformat_minor": 5
}
