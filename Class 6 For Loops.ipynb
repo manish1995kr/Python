{
 "cells": [
  {
   "cell_type": "code",
   "execution_count": 7,
   "id": "52b84d3d",
   "metadata": {},
   "outputs": [
    {
     "name": "stdout",
     "output_type": "stream",
     "text": [
      "Enter the salary :20000\n",
      "Enter the year :5\n",
      "you got the 10% bonus\n",
      "your new salary is 22000.0\n"
     ]
    }
   ],
   "source": [
    "salary=int(input('Enter the salary :'))\n",
    "year = int(input('Enter the year :'))\n",
    "if year<=2:\n",
    "    print('you got the 5% bonus')\n",
    "    bonus=salary*5/100\n",
    "    net_salary=bonus+salary\n",
    "    print('your new salary is',net_salary)\n",
    "elif 2<year<=5:\n",
    "    print('you got the 10% bonus')\n",
    "    bonus1=salary*10/100\n",
    "    net_salary1=bonus1+salary\n",
    "    print('your new salary is',net_salary1)\n",
    "elif 5<year:\n",
    "    print('you got the 20% bonus')\n",
    "    bonus2=salary*20/100\n",
    "    net_salary2=bonus2+salary\n",
    "    print('your new salary is',net_salary2)"
   ]
  },
  {
   "cell_type": "markdown",
   "id": "f430c0a4",
   "metadata": {},
   "source": [
    "# For Loops"
   ]
  },
  {
   "cell_type": "code",
   "execution_count": 11,
   "id": "632d80e7",
   "metadata": {},
   "outputs": [
    {
     "name": "stdout",
     "output_type": "stream",
     "text": [
      "1\n",
      "2\n",
      "3\n",
      "4\n",
      "5\n"
     ]
    }
   ],
   "source": [
    "for i in range(1,6,1):\n",
    "    print(i)"
   ]
  },
  {
   "cell_type": "markdown",
   "id": "d1663f7e",
   "metadata": {},
   "source": [
    "# Using loops print all even no. b/w 1 to 50\n",
    "and print all odd no. b/w 1 to 50"
   ]
  },
  {
   "cell_type": "code",
   "execution_count": 12,
   "id": "3fc5dc8a",
   "metadata": {},
   "outputs": [
    {
     "name": "stdout",
     "output_type": "stream",
     "text": [
      "1\n",
      "3\n",
      "5\n",
      "7\n",
      "9\n",
      "11\n",
      "13\n",
      "15\n",
      "17\n",
      "19\n",
      "21\n",
      "23\n",
      "25\n",
      "27\n",
      "29\n",
      "31\n",
      "33\n",
      "35\n",
      "37\n",
      "39\n",
      "41\n",
      "43\n",
      "45\n",
      "47\n",
      "49\n"
     ]
    }
   ],
   "source": [
    "for i in range(1,51,2):\n",
    "    print(i)"
   ]
  },
  {
   "cell_type": "code",
   "execution_count": 14,
   "id": "145c095e",
   "metadata": {},
   "outputs": [
    {
     "name": "stdout",
     "output_type": "stream",
     "text": [
      "2\n",
      "4\n",
      "6\n",
      "8\n",
      "10\n",
      "12\n",
      "14\n",
      "16\n",
      "18\n",
      "20\n",
      "22\n",
      "24\n",
      "26\n",
      "28\n",
      "30\n",
      "32\n",
      "34\n",
      "36\n",
      "38\n",
      "40\n",
      "42\n",
      "44\n",
      "46\n",
      "48\n",
      "50\n"
     ]
    }
   ],
   "source": [
    "for i in range(2,51,2):\n",
    "    print(i)"
   ]
  },
  {
   "cell_type": "code",
   "execution_count": 16,
   "id": "8ffd05a7",
   "metadata": {},
   "outputs": [
    {
     "name": "stdout",
     "output_type": "stream",
     "text": [
      "apple\n",
      "banana\n",
      "orange\n",
      "kivi\n",
      "grapes\n"
     ]
    }
   ],
   "source": [
    "fruit=['apple','banana','orange','kivi','grapes']\n",
    "for i in fruit:\n",
    "    print(i)"
   ]
  },
  {
   "cell_type": "code",
   "execution_count": 17,
   "id": "b6740996",
   "metadata": {},
   "outputs": [
    {
     "name": "stdout",
     "output_type": "stream",
     "text": [
      "apple,banana,orange,kivi,grapes,"
     ]
    }
   ],
   "source": [
    "fruit=['apple','banana','orange','kivi','grapes']\n",
    "for i in fruit:\n",
    "    print(i,end = ',')"
   ]
  },
  {
   "cell_type": "code",
   "execution_count": 19,
   "id": "cbdafd08",
   "metadata": {},
   "outputs": [
    {
     "name": "stdout",
     "output_type": "stream",
     "text": [
      "10,9,8,7,6,5,4,3,2,1,"
     ]
    }
   ],
   "source": [
    "for i in range(10,0,-1):\n",
    "    print(i,end = ',')"
   ]
  },
  {
   "cell_type": "code",
   "execution_count": 28,
   "id": "4748c0f4",
   "metadata": {},
   "outputs": [
    {
     "name": "stdout",
     "output_type": "stream",
     "text": [
      "Enter the number for table :5\n",
      "5 x 1 = 5\n",
      "5 x 2 = 10\n",
      "5 x 3 = 15\n",
      "5 x 4 = 20\n",
      "5 x 5 = 25\n",
      "5 x 6 = 30\n",
      "5 x 7 = 35\n",
      "5 x 8 = 40\n",
      "5 x 9 = 45\n",
      "5 x 10 = 50\n"
     ]
    }
   ],
   "source": [
    "table = int(input('Enter the number for table :'))\n",
    "for i in range(1,11,1):\n",
    "    result = table*i\n",
    "    print(table,'x',i,'=',result)"
   ]
  },
  {
   "cell_type": "code",
   "execution_count": 30,
   "id": "1fd2a822",
   "metadata": {},
   "outputs": [
    {
     "name": "stdout",
     "output_type": "stream",
     "text": [
      "Enter the number for table :4\n",
      "4 x 10 = 40\n",
      "4 x 9 = 36\n",
      "4 x 8 = 32\n",
      "4 x 7 = 28\n",
      "4 x 6 = 24\n",
      "4 x 5 = 20\n",
      "4 x 4 = 16\n",
      "4 x 3 = 12\n",
      "4 x 2 = 8\n",
      "4 x 1 = 4\n"
     ]
    }
   ],
   "source": [
    "table = int(input('Enter the number for table :'))\n",
    "for i in range(10,0,-1):\n",
    "    result = table*i\n",
    "    print(table,'x',i,'=',result)"
   ]
  },
  {
   "cell_type": "markdown",
   "id": "f437951d",
   "metadata": {},
   "source": [
    "# find square for even no. and cube for odd no. in 1 to 50."
   ]
  },
  {
   "cell_type": "code",
   "execution_count": 43,
   "id": "9739838b",
   "metadata": {},
   "outputs": [
    {
     "name": "stdout",
     "output_type": "stream",
     "text": [
      "Cube of the Odd Number 1 is 1\n",
      "Square of the Even Number 2 is 4\n",
      "Cube of the Odd Number 3 is 27\n",
      "Square of the Even Number 4 is 16\n",
      "Cube of the Odd Number 5 is 125\n",
      "Square of the Even Number 6 is 36\n",
      "Cube of the Odd Number 7 is 343\n",
      "Square of the Even Number 8 is 64\n",
      "Cube of the Odd Number 9 is 729\n",
      "Square of the Even Number 10 is 100\n",
      "Cube of the Odd Number 11 is 1331\n",
      "Square of the Even Number 12 is 144\n",
      "Cube of the Odd Number 13 is 2197\n",
      "Square of the Even Number 14 is 196\n",
      "Cube of the Odd Number 15 is 3375\n",
      "Square of the Even Number 16 is 256\n",
      "Cube of the Odd Number 17 is 4913\n",
      "Square of the Even Number 18 is 324\n",
      "Cube of the Odd Number 19 is 6859\n",
      "Square of the Even Number 20 is 400\n",
      "Cube of the Odd Number 21 is 9261\n",
      "Square of the Even Number 22 is 484\n",
      "Cube of the Odd Number 23 is 12167\n",
      "Square of the Even Number 24 is 576\n",
      "Cube of the Odd Number 25 is 15625\n",
      "Square of the Even Number 26 is 676\n",
      "Cube of the Odd Number 27 is 19683\n",
      "Square of the Even Number 28 is 784\n",
      "Cube of the Odd Number 29 is 24389\n",
      "Square of the Even Number 30 is 900\n",
      "Cube of the Odd Number 31 is 29791\n",
      "Square of the Even Number 32 is 1024\n",
      "Cube of the Odd Number 33 is 35937\n",
      "Square of the Even Number 34 is 1156\n",
      "Cube of the Odd Number 35 is 42875\n",
      "Square of the Even Number 36 is 1296\n",
      "Cube of the Odd Number 37 is 50653\n",
      "Square of the Even Number 38 is 1444\n",
      "Cube of the Odd Number 39 is 59319\n",
      "Square of the Even Number 40 is 1600\n",
      "Cube of the Odd Number 41 is 68921\n",
      "Square of the Even Number 42 is 1764\n",
      "Cube of the Odd Number 43 is 79507\n",
      "Square of the Even Number 44 is 1936\n",
      "Cube of the Odd Number 45 is 91125\n",
      "Square of the Even Number 46 is 2116\n",
      "Cube of the Odd Number 47 is 103823\n",
      "Square of the Even Number 48 is 2304\n",
      "Cube of the Odd Number 49 is 117649\n",
      "Square of the Even Number 50 is 2500\n"
     ]
    }
   ],
   "source": [
    "for i in range(1,51,1):\n",
    "    if i%2==0:\n",
    "        even=i*i\n",
    "        print('Square of the Even Number',i, 'is' ,even)\n",
    "    else:\n",
    "        odd=i*i*i\n",
    "        print('Cube of the Odd Number',i, 'is',odd)"
   ]
  },
  {
   "cell_type": "code",
   "execution_count": null,
   "id": "84c33e45",
   "metadata": {},
   "outputs": [],
   "source": []
  }
 ],
 "metadata": {
  "kernelspec": {
   "display_name": "Python 3",
   "language": "python",
   "name": "python3"
  },
  "language_info": {
   "codemirror_mode": {
    "name": "ipython",
    "version": 3
   },
   "file_extension": ".py",
   "mimetype": "text/x-python",
   "name": "python",
   "nbconvert_exporter": "python",
   "pygments_lexer": "ipython3",
   "version": "3.8.8"
  }
 },
 "nbformat": 4,
 "nbformat_minor": 5
}
