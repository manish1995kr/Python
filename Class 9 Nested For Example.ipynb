{
 "cells": [
  {
   "cell_type": "code",
   "execution_count": 1,
   "id": "783730fc",
   "metadata": {},
   "outputs": [
    {
     "name": "stdout",
     "output_type": "stream",
     "text": [
      "25\n",
      "36\n",
      "64\n",
      "81\n"
     ]
    }
   ],
   "source": [
    "list = [5,6,8,9]\n",
    "for i in list:\n",
    "    print(i*i)"
   ]
  },
  {
   "cell_type": "markdown",
   "id": "413ed18f",
   "metadata": {},
   "source": [
    "# Nested for"
   ]
  },
  {
   "cell_type": "code",
   "execution_count": 16,
   "id": "ed8a953f",
   "metadata": {},
   "outputs": [
    {
     "name": "stdout",
     "output_type": "stream",
     "text": [
      "a 1\n",
      "2\n",
      "b 1\n",
      "2\n",
      " "
     ]
    }
   ],
   "source": [
    "for i in ['a','b']:\n",
    "    print(i,end=' ')\n",
    "    for j in [1,2]:\n",
    "        print(j)\n",
    "print(end=' ')"
   ]
  },
  {
   "cell_type": "code",
   "execution_count": 1,
   "id": "70504c35",
   "metadata": {},
   "outputs": [
    {
     "name": "stdout",
     "output_type": "stream",
     "text": [
      "3 X 10 = 30\n",
      "3 X 9 = 27\n",
      "3 X 8 = 24\n",
      "3 X 7 = 21\n",
      "3 X 6 = 18\n",
      "3 X 5 = 15\n",
      "3 X 4 = 12\n",
      "3 X 3 = 9\n",
      "3 X 2 = 6\n",
      "3 X 1 = 3\n",
      "xxxxxxxxx\n",
      " \n",
      "4 X 10 = 40\n",
      "4 X 9 = 36\n",
      "4 X 8 = 32\n",
      "4 X 7 = 28\n",
      "4 X 6 = 24\n",
      "4 X 5 = 20\n",
      "4 X 4 = 16\n",
      "4 X 3 = 12\n",
      "4 X 2 = 8\n",
      "4 X 1 = 4\n",
      "xxxxxxxxx\n",
      " \n",
      "5 X 10 = 50\n",
      "5 X 9 = 45\n",
      "5 X 8 = 40\n",
      "5 X 7 = 35\n",
      "5 X 6 = 30\n",
      "5 X 5 = 25\n",
      "5 X 4 = 20\n",
      "5 X 3 = 15\n",
      "5 X 2 = 10\n",
      "5 X 1 = 5\n",
      "xxxxxxxxx\n",
      " \n",
      "6 X 10 = 60\n",
      "6 X 9 = 54\n",
      "6 X 8 = 48\n",
      "6 X 7 = 42\n",
      "6 X 6 = 36\n",
      "6 X 5 = 30\n",
      "6 X 4 = 24\n",
      "6 X 3 = 18\n",
      "6 X 2 = 12\n",
      "6 X 1 = 6\n",
      "xxxxxxxxx\n",
      " \n",
      "7 X 10 = 70\n",
      "7 X 9 = 63\n",
      "7 X 8 = 56\n",
      "7 X 7 = 49\n",
      "7 X 6 = 42\n",
      "7 X 5 = 35\n",
      "7 X 4 = 28\n",
      "7 X 3 = 21\n",
      "7 X 2 = 14\n",
      "7 X 1 = 7\n",
      "xxxxxxxxx\n",
      " \n",
      "8 X 10 = 80\n",
      "8 X 9 = 72\n",
      "8 X 8 = 64\n",
      "8 X 7 = 56\n",
      "8 X 6 = 48\n",
      "8 X 5 = 40\n",
      "8 X 4 = 32\n",
      "8 X 3 = 24\n",
      "8 X 2 = 16\n",
      "8 X 1 = 8\n",
      "xxxxxxxxx\n",
      " \n"
     ]
    }
   ],
   "source": [
    "for i in range(3,9):\n",
    "    for j in range(10,0,-1):\n",
    "        result = i*j\n",
    "        print(i,'X',j,'=',result)\n",
    "    print('xxxxxxxxx')\n",
    "    print(' ')"
   ]
  },
  {
   "cell_type": "code",
   "execution_count": 19,
   "id": "a442dbfe",
   "metadata": {},
   "outputs": [
    {
     "name": "stdout",
     "output_type": "stream",
     "text": [
      "1505\n",
      "1540\n",
      "1575\n",
      "1610\n",
      "1645\n",
      "1680\n",
      "1715\n",
      "1750\n",
      "1785\n",
      "1820\n",
      "1855\n",
      "1890\n",
      "1925\n",
      "1960\n",
      "1995\n",
      "2030\n",
      "2065\n",
      "2100\n",
      "2135\n",
      "2170\n",
      "2205\n",
      "2240\n",
      "2275\n",
      "2310\n",
      "2345\n",
      "2380\n",
      "2415\n",
      "2450\n",
      "2485\n",
      "2520\n",
      "2555\n",
      "2590\n",
      "2625\n",
      "2660\n",
      "2695\n"
     ]
    }
   ],
   "source": [
    "for i in range(1500,2701):\n",
    "    if i%7==0 and i%5==0:\n",
    "        print(i)"
   ]
  },
  {
   "cell_type": "code",
   "execution_count": 24,
   "id": "43e837e4",
   "metadata": {},
   "outputs": [
    {
     "name": "stdout",
     "output_type": "stream",
     "text": [
      "Enter the temperature in celsius : 60\n",
      "140.0\n"
     ]
    }
   ],
   "source": [
    "temp = int(input('Enter the temperature in celsius : '))\n",
    "f = temp*1.8+32\n",
    "print(f)"
   ]
  },
  {
   "cell_type": "code",
   "execution_count": 26,
   "id": "7b254c8c",
   "metadata": {},
   "outputs": [
    {
     "name": "stdout",
     "output_type": "stream",
     "text": [
      "Enter your lucky no. from 1 to 9 : 6\n",
      "you got reward\n"
     ]
    }
   ],
   "source": [
    "guess = int(input('Enter your lucky no. from 1 to 9 : '))\n",
    "if guess==6:\n",
    "    print('you got reward')\n",
    "else:\n",
    "    print('better luck next time')"
   ]
  },
  {
   "cell_type": "code",
   "execution_count": 55,
   "id": "4d3430b4",
   "metadata": {},
   "outputs": [
    {
     "name": "stdout",
     "output_type": "stream",
     "text": [
      "x  \n",
      "x x  \n",
      "x x x  \n",
      "x x x x  \n",
      "x x x x x  \n",
      "x x x x  \n",
      "x x x  \n",
      "x x  \n",
      "x  \n"
     ]
    }
   ],
   "source": [
    "for i in range(1,6):\n",
    "    for j in range(0,i):\n",
    "        print('x',end=' ')\n",
    "    print(' ')\n",
    "for a in range(4,0,-1):\n",
    "    for s in range(0,a,1):\n",
    "        print('x',end=' ')\n",
    "    print(' ')"
   ]
  },
  {
   "cell_type": "code",
   "execution_count": 5,
   "id": "ed1d2d21",
   "metadata": {},
   "outputs": [
    {
     "name": "stdout",
     "output_type": "stream",
     "text": [
      "No. in the list: 2\n",
      "No. in the list: 4\n",
      "No. in the list: 6\n",
      "No. in the list: 8\n",
      "total no. in list:  4\n"
     ]
    }
   ],
   "source": [
    "list = [1,2,3,4,5,6,7,8,9]\n",
    "count =0\n",
    "for i in list:\n",
    "    if i%2==0:\n",
    "        print('No. in the list:',i)\n",
    "        count=count+1\n",
    "print('total no. in list: ',count)"
   ]
  },
  {
   "cell_type": "code",
   "execution_count": null,
   "id": "33122204",
   "metadata": {},
   "outputs": [],
   "source": []
  }
 ],
 "metadata": {
  "kernelspec": {
   "display_name": "Python 3",
   "language": "python",
   "name": "python3"
  },
  "language_info": {
   "codemirror_mode": {
    "name": "ipython",
    "version": 3
   },
   "file_extension": ".py",
   "mimetype": "text/x-python",
   "name": "python",
   "nbconvert_exporter": "python",
   "pygments_lexer": "ipython3",
   "version": "3.8.8"
  }
 },
 "nbformat": 4,
 "nbformat_minor": 5
}
