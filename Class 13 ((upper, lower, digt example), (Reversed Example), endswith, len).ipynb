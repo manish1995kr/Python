{
 "cells": [
  {
   "cell_type": "markdown",
   "id": "2ba4f0e8",
   "metadata": {},
   "source": [
    "# write a program to input a password from the user and check the validity of the password.\n",
    "min 1 uppercase, lowercase, digit, special char\n",
    "min length of the password should be 10"
   ]
  },
  {
   "cell_type": "code",
   "execution_count": null,
   "id": "56204026",
   "metadata": {},
   "outputs": [],
   "source": [
    "p = input(\"Enter the password :\")\n",
    "for i in p:\n",
    "    if i.isupper()>0 and i.islower>0 and i.isdigit()>0 "
   ]
  },
  {
   "cell_type": "code",
   "execution_count": 3,
   "id": "4678fcdd",
   "metadata": {},
   "outputs": [
    {
     "name": "stdout",
     "output_type": "stream",
     "text": [
      "Enter the password :Aa12@#$manA\n",
      "valid password Aa12@#$manA\n"
     ]
    }
   ],
   "source": [
    "p = input(\"Enter the password :\")\n",
    "c,d,e,f = 0,0,0,0\n",
    "for i in p:\n",
    "    if i.isupper():\n",
    "        c = c+1  \n",
    "    elif i.islower():\n",
    "        d = d+1      \n",
    "    elif i.isdigit():\n",
    "        e = e+1\n",
    "    else:\n",
    "        f = f+1\n",
    "\n",
    "if c>0 and d>0 and e>0 and f>0 and len(p)>=10:\n",
    "    print(\"valid password\",p)\n",
    "else:\n",
    "    print(\"invalid password\",p)"
   ]
  },
  {
   "cell_type": "code",
   "execution_count": 13,
   "id": "a55f052f",
   "metadata": {},
   "outputs": [
    {
     "name": "stdout",
     "output_type": "stream",
     "text": [
      "Enter the password :sadfsdf\n",
      "invalid password sadfsdf\n",
      "Enter the password :qwergASD@$\n",
      "invalid password qwergASD@$\n",
      "Enter the password :asdqwAS$%#^\n",
      "invalid password asdqwAS$%#^\n",
      "Enter the password :qwer123@#ASETG\n",
      "valid password qwer123@#ASETG\n"
     ]
    }
   ],
   "source": [
    "while True:\n",
    "    p = input(\"Enter the password :\")\n",
    "    c,d,e,f = 0,0,0,0\n",
    "    for i in p:\n",
    "        \n",
    "        if i.isupper():\n",
    "            c = c+1  \n",
    "        elif i.islower():\n",
    "            d = d+1      \n",
    "        elif i.isdigit():\n",
    "            e = e+1\n",
    "        else:\n",
    "            f = f+1\n",
    "\n",
    "    if c>0 and d>0 and e>0 and f>0 and len(p)>=10:\n",
    "        print(\"valid password\",p)\n",
    "        break\n",
    "        \n",
    "    else:\n",
    "        print(\"invalid password\",p)\n",
    "        continue\n",
    "        \n",
    "        "
   ]
  },
  {
   "cell_type": "code",
   "execution_count": 25,
   "id": "80449a7f",
   "metadata": {},
   "outputs": [
    {
     "data": {
      "text/plain": [
       "True"
      ]
     },
     "execution_count": 25,
     "metadata": {},
     "output_type": "execute_result"
    }
   ],
   "source": [
    "a = \"ndcjkfnd\"\n",
    "a.endswith('d')"
   ]
  },
  {
   "cell_type": "code",
   "execution_count": 15,
   "id": "77cb48da",
   "metadata": {},
   "outputs": [
    {
     "name": "stdout",
     "output_type": "stream",
     "text": [
      "d\n",
      "i\n",
      "r\n",
      "d\n",
      "a\n",
      "m\n"
     ]
    }
   ],
   "source": [
    "s = 'madrid'\n",
    "s = reversed(s)\n",
    "for i in s:\n",
    "    print(i)"
   ]
  },
  {
   "cell_type": "code",
   "execution_count": 18,
   "id": "1026fbd6",
   "metadata": {},
   "outputs": [
    {
     "name": "stdout",
     "output_type": "stream",
     "text": [
      "d\n",
      "i\n",
      "r\n",
      "d\n",
      "a\n",
      "m\n"
     ]
    }
   ],
   "source": [
    "while True:\n",
    "    s = 'madrid'\n",
    "    s = reversed(s)\n",
    "    for i in s:\n",
    "        print(i)\n",
    "    break"
   ]
  },
  {
   "cell_type": "code",
   "execution_count": 21,
   "id": "ba79c775",
   "metadata": {},
   "outputs": [
    {
     "name": "stdout",
     "output_type": "stream",
     "text": [
      "d\n",
      "i\n",
      "r\n",
      "d\n",
      "a\n",
      "m\n"
     ]
    }
   ],
   "source": [
    "s = 'madrid'\n",
    "i=1\n",
    "while i<=len(s):\n",
    "    print(s[-i])\n",
    "    i = i+1"
   ]
  },
  {
   "cell_type": "markdown",
   "id": "97084440",
   "metadata": {},
   "source": [
    "# write a program to print the number of vowels in a given strings\n",
    "s = \"ASDFegweheriperjgbUIrgiorbgrepOw2\""
   ]
  },
  {
   "cell_type": "code",
   "execution_count": 24,
   "id": "05d0e328",
   "metadata": {},
   "outputs": [
    {
     "name": "stdout",
     "output_type": "stream",
     "text": [
      "12\n"
     ]
    }
   ],
   "source": [
    "s = \"ASDFegweheriperjgbUIrgiorbgrepOw2\"\n",
    "s = s.lower()\n",
    "c=0\n",
    "for i in s:\n",
    "    if i=='a' or i=='e' or i=='i' or i=='o' or i=='u':\n",
    "        c=c+1\n",
    "print(c)"
   ]
  },
  {
   "cell_type": "code",
   "execution_count": null,
   "id": "aa9972d3",
   "metadata": {},
   "outputs": [],
   "source": []
  }
 ],
 "metadata": {
  "kernelspec": {
   "display_name": "Python 3",
   "language": "python",
   "name": "python3"
  },
  "language_info": {
   "codemirror_mode": {
    "name": "ipython",
    "version": 3
   },
   "file_extension": ".py",
   "mimetype": "text/x-python",
   "name": "python",
   "nbconvert_exporter": "python",
   "pygments_lexer": "ipython3",
   "version": "3.8.8"
  }
 },
 "nbformat": 4,
 "nbformat_minor": 5
}
