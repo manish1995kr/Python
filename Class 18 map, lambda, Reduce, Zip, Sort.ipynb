{
 "cells": [
  {
   "cell_type": "code",
   "execution_count": 1,
   "id": "6520dc0f",
   "metadata": {},
   "outputs": [
    {
     "data": {
      "text/plain": [
       "[['a', 'b', 'c'], ['b', 'c', 'd']]"
      ]
     },
     "execution_count": 1,
     "metadata": {},
     "output_type": "execute_result"
    }
   ],
   "source": [
    "l = [\"abc\",\"bcd\"]\n",
    "list(map(lambda x:list(x),l))"
   ]
  },
  {
   "cell_type": "markdown",
   "id": "1d03076f",
   "metadata": {},
   "source": [
    "# WAP to convert dictionary of list to list of dictionaries"
   ]
  },
  {
   "cell_type": "code",
   "execution_count": null,
   "id": "227f01a2",
   "metadata": {},
   "outputs": [],
   "source": [
    "d = {1:[1,2],2:[3,4],3:[5,6]}\n",
    "output\n",
    "l = [{1:[1,2]},{2:[3,4]},{3:[5,6]}]"
   ]
  },
  {
   "cell_type": "code",
   "execution_count": 3,
   "id": "449673d9",
   "metadata": {},
   "outputs": [
    {
     "data": {
      "text/plain": [
       "[{1: [1, 2]}, {2: [3, 4]}, {3: [5, 6]}]"
      ]
     },
     "execution_count": 3,
     "metadata": {},
     "output_type": "execute_result"
    }
   ],
   "source": [
    "d = {1:[1,2],2:[3,4],3:[5,6]}\n",
    "list(map(lambda i,j:{i:j},d.keys(),d.values()))"
   ]
  },
  {
   "cell_type": "code",
   "execution_count": 5,
   "id": "e9e6ecd2",
   "metadata": {},
   "outputs": [
    {
     "data": {
      "text/plain": [
       "dict_keys([1, 2, 3])"
      ]
     },
     "execution_count": 5,
     "metadata": {},
     "output_type": "execute_result"
    }
   ],
   "source": [
    "d.keys()"
   ]
  },
  {
   "cell_type": "code",
   "execution_count": 6,
   "id": "c088d1b6",
   "metadata": {},
   "outputs": [
    {
     "data": {
      "text/plain": [
       "dict_values([[1, 2], [3, 4], [5, 6]])"
      ]
     },
     "execution_count": 6,
     "metadata": {},
     "output_type": "execute_result"
    }
   ],
   "source": [
    "d.values()"
   ]
  },
  {
   "cell_type": "markdown",
   "id": "5d32deb2",
   "metadata": {},
   "source": [
    "# Reduce"
   ]
  },
  {
   "cell_type": "code",
   "execution_count": 7,
   "id": "d07fc1b0",
   "metadata": {},
   "outputs": [
    {
     "data": {
      "text/plain": [
       "14"
      ]
     },
     "execution_count": 7,
     "metadata": {},
     "output_type": "execute_result"
    }
   ],
   "source": [
    "from functools import reduce\n",
    "lst = [2,3,4,5]\n",
    "reduce(lambda a,b: a+b,lst)"
   ]
  },
  {
   "cell_type": "code",
   "execution_count": 8,
   "id": "2ec32e18",
   "metadata": {},
   "outputs": [
    {
     "data": {
      "text/plain": [
       "78"
      ]
     },
     "execution_count": 8,
     "metadata": {},
     "output_type": "execute_result"
    }
   ],
   "source": [
    "l = [12,23,65,78,4]\n",
    "reduce(lambda x,y:x if x>y else y,l)"
   ]
  },
  {
   "cell_type": "code",
   "execution_count": 9,
   "id": "8fe5bbc9",
   "metadata": {},
   "outputs": [
    {
     "name": "stdout",
     "output_type": "stream",
     "text": [
      "9\n",
      "8\n",
      "8\n",
      "7\n",
      "6\n"
     ]
    },
    {
     "data": {
      "text/plain": [
       "[9, 16, 24, 28, 30]"
      ]
     },
     "execution_count": 9,
     "metadata": {},
     "output_type": "execute_result"
    }
   ],
   "source": [
    "l = [1,2,3,4,5]\n",
    "list(map(lambda x:x*(int(input())),l))"
   ]
  },
  {
   "cell_type": "markdown",
   "id": "fddb8c0f",
   "metadata": {},
   "source": [
    "# WAP to sort  a list of tuples using lambda\n",
    "[('English',88),('Science',90),('Maths',97),('Social Science',82)]"
   ]
  },
  {
   "cell_type": "code",
   "execution_count": 12,
   "id": "5c85baf6",
   "metadata": {},
   "outputs": [
    {
     "data": {
      "text/plain": [
       "[('Social Science', 82), ('English', 88), ('Science', 90), ('Maths', 97)]"
      ]
     },
     "execution_count": 12,
     "metadata": {},
     "output_type": "execute_result"
    }
   ],
   "source": [
    "l = [('English',88),('Science',90),('Maths',97),('Social Science',82)]\n",
    "l.sort(key = lambda x:x[1])\n",
    "l"
   ]
  },
  {
   "cell_type": "code",
   "execution_count": 13,
   "id": "eecdddb6",
   "metadata": {},
   "outputs": [
    {
     "data": {
      "text/plain": [
       "[('Maths', 97), ('Science', 90), ('English', 88), ('Social Science', 82)]"
      ]
     },
     "execution_count": 13,
     "metadata": {},
     "output_type": "execute_result"
    }
   ],
   "source": [
    "l = [('English',88),('Science',90),('Maths',97),('Social Science',82)]\n",
    "l.sort(key = lambda x:x[1],reverse=True)\n",
    "l"
   ]
  },
  {
   "cell_type": "code",
   "execution_count": 14,
   "id": "fbc73898",
   "metadata": {},
   "outputs": [
    {
     "name": "stdout",
     "output_type": "stream",
     "text": [
      "['English', 'Science', 'Maths', 'Social Science'] [88, 90, 97, 82]\n",
      "[('English', 88), ('Science', 90), ('Maths', 97), ('Social Science', 82)]\n"
     ]
    }
   ],
   "source": [
    "l = [('English',88),('Science',90),('Maths',97),('Social Science',82)]\n",
    "l1,l2 = [],[]\n",
    "for i in l:\n",
    "    for j in i:\n",
    "        if type(j)==str:\n",
    "            l1.append(j)\n",
    "        elif type(j)==int:\n",
    "            l2.append(j)\n",
    "print(l1,l2)\n",
    "a=list(zip(l1,l2))\n",
    "print(a)"
   ]
  },
  {
   "cell_type": "code",
   "execution_count": null,
   "id": "00a0c4d0",
   "metadata": {},
   "outputs": [],
   "source": []
  }
 ],
 "metadata": {
  "kernelspec": {
   "display_name": "Python 3",
   "language": "python",
   "name": "python3"
  },
  "language_info": {
   "codemirror_mode": {
    "name": "ipython",
    "version": 3
   },
   "file_extension": ".py",
   "mimetype": "text/x-python",
   "name": "python",
   "nbconvert_exporter": "python",
   "pygments_lexer": "ipython3",
   "version": "3.8.8"
  }
 },
 "nbformat": 4,
 "nbformat_minor": 5
}
