{
 "cells": [
  {
   "cell_type": "markdown",
   "id": "3b1f8a75",
   "metadata": {},
   "source": [
    "Write a program to take marks as input from the user and based on the marks give the grades to the student \n",
    "90+ - A+\n",
    "80-90 = A\n",
    "70-80 = B+\n",
    "60-70 = B\n",
    "50-60 = C\n",
    "40-50 = D\n",
    "less than 40 = Fail"
   ]
  },
  {
   "cell_type": "code",
   "execution_count": 11,
   "id": "93e90957",
   "metadata": {},
   "outputs": [
    {
     "name": "stdout",
     "output_type": "stream",
     "text": [
      "Type your marks to check the grades :58\n",
      "you get the C\n"
     ]
    }
   ],
   "source": [
    "marks = int(input('Type your marks to check the grades :'))\n",
    "if 100>= marks >=90:\n",
    "    print('You get the A+')\n",
    "elif 80<= marks <90:\n",
    "    print('You get the A')\n",
    "elif 70<= marks <80:\n",
    "    print('you get the B+')\n",
    "elif 60<= marks <70:\n",
    "    print('you get the B')\n",
    "elif 50<= marks <60:\n",
    "    print('you get the C')\n",
    "elif 40<= marks <50:\n",
    "    print('you get the D')\n",
    "elif 0<= marks <40:\n",
    "    print('Fail')\n",
    "else:\n",
    "    print('you enter the wrong marks')"
   ]
  },
  {
   "cell_type": "code",
   "execution_count": 18,
   "id": "73824768",
   "metadata": {},
   "outputs": [
    {
     "name": "stdout",
     "output_type": "stream",
     "text": [
      "Enter the views of the TV Channel : 10000\n",
      "The Channel get the 4 star rating\n"
     ]
    }
   ],
   "source": [
    "views = int(input('Enter the views of the TV Channel : '))\n",
    "if views > 10000:\n",
    "    print('The Channel get the 5 star rating')\n",
    "elif 5000<= views <=10000:\n",
    "    print('The Channel get the 4 star rating')\n",
    "elif 3000<= views <5000:\n",
    "    print('The channel get the 3 star rating')\n",
    "elif 1000<= views <3000:\n",
    "    print('The Channel get the 2 star rating')\n",
    "elif 0<= views <1000:\n",
    "    print('The Channel get the 1 star rating')"
   ]
  },
  {
   "cell_type": "markdown",
   "id": "a0c30d27",
   "metadata": {},
   "source": [
    "# Nested Condition"
   ]
  },
  {
   "cell_type": "code",
   "execution_count": 24,
   "id": "bff802f8",
   "metadata": {},
   "outputs": [
    {
     "name": "stdout",
     "output_type": "stream",
     "text": [
      "Select the head or Tailstails\n",
      "oppostion will decide weather to bat or bowl\n",
      "Enter the batting or bowling :bowl\n",
      "rohit will bat\n"
     ]
    }
   ],
   "source": [
    "toss = input('Select the head or tails : ')\n",
    "if toss == 'head':\n",
    "    print('you won the toss india')\n",
    "    india = input('Please select the batting or bawling : ')\n",
    "    if india == 'batting':\n",
    "        print('Rohit will opening')\n",
    "    elif india =='bawling':\n",
    "        print('Bumrah will bowl first')\n",
    "elif toss == 'tails':\n",
    "    print('oppostion will decide weather to bat or bowl')\n",
    "    opp = input('Enter the batting or bowling :')\n",
    "    if opp =='batting':\n",
    "        print('Bumrah will bowl')\n",
    "    else:\n",
    "        print('rohit will bat')"
   ]
  },
  {
   "cell_type": "code",
   "execution_count": 31,
   "id": "bdbf37f9",
   "metadata": {},
   "outputs": [
    {
     "name": "stdout",
     "output_type": "stream",
     "text": [
      "Today is Rainy Day\n",
      "you have a umbrella yes or no :no\n",
      "the rain is slow yes or no :no\n",
      "you have hoody yes or no :yes\n",
      "Today is your working day yes or noyes\n",
      "you are not safe from rain\n"
     ]
    }
   ],
   "source": [
    "print('Today is Rainy Day')\n",
    "umb = input('you have a umbrella yes or no :')\n",
    "rt = input('the rain is slow yes or no :')\n",
    "hood = input('you have hoody yes or no :')\n",
    "workday = input('Today is your working day yes or no :')\n",
    "if umb =='yes':\n",
    "    print('you are safe from rain')\n",
    "elif rt =='yes' and hood =='yes':\n",
    "    print('you are safe from rain')\n",
    "elif workday =='no':\n",
    "    print('you are safe from rain')\n",
    "else:\n",
    "    print('you are not safe from rain')"
   ]
  },
  {
   "cell_type": "code",
   "execution_count": 3,
   "id": "1712d4c9",
   "metadata": {},
   "outputs": [
    {
     "name": "stdout",
     "output_type": "stream",
     "text": [
      "workday yes or no :yes\n",
      "umbrella yes or no :no\n",
      "hood yes or no :yes\n",
      "rain type slow or fast :fast\n",
      "not safe\n"
     ]
    }
   ],
   "source": [
    "workday = input('workday yes or no :')\n",
    "umb = input('umbrella yes or no :')\n",
    "hood = input('hood yes or no :')\n",
    "rain = input('rain type slow or fast :')\n",
    "if workday == 'yes':\n",
    "    if umb == 'yes':\n",
    "        print('safe')\n",
    "    else:\n",
    "        if rain == 'slow':\n",
    "            if hood == 'yes':\n",
    "                print('safe')\n",
    "            else:\n",
    "                print('not safe')\n",
    "        else:\n",
    "            print('not safe')\n",
    "elif workday == 'no':\n",
    "    print('i am safe at home')"
   ]
  },
  {
   "cell_type": "markdown",
   "id": "be36c9bd",
   "metadata": {},
   "source": [
    "big sales :\n",
    "    product cat = electronics, appareles, baby products, personal care\n",
    "    electronics = phone 10%, laptop 5%, ac and refrig 20% - price\n",
    "    apparels = gender wise females proffesional 30%, personal 20% baby = 40%\n",
    "    presonal care, if the actual price above 600 then 50% off"
   ]
  },
  {
   "cell_type": "code",
   "execution_count": 21,
   "id": "d979f030",
   "metadata": {},
   "outputs": [
    {
     "name": "stdout",
     "output_type": "stream",
     "text": [
      "Enter the product by name electronics, appareles, baby product, personal care : personal care\n",
      "Enter the price of your product :658\n",
      "you get Extra 50% OFF\n"
     ]
    }
   ],
   "source": [
    "product = input('Enter the product by name electronics, appareles, baby product, personal care : ')\n",
    "if product == 'electronics':\n",
    "    pro = input('Enter which one you want to buy phone, laptop, ac, refrig : ')\n",
    "    if pro == 'phone':\n",
    "        print('you get 10% off on phone')\n",
    "    elif pro == 'laptop':\n",
    "        print('you get 5% off on laptop')\n",
    "    elif pro == 'ac':\n",
    "        print('you get 20% off on ac')\n",
    "    elif pro == 'refrig':\n",
    "        print('you get 20% off on refrig')\n",
    "elif product == 'appareles':\n",
    "    type1 = input('professional or personal')\n",
    "    if type1 == 'personal':\n",
    "        print('gender wise females proffesional 20% off')\n",
    "    elif type1 == 'professional':\n",
    "        print('professional 30% off')\n",
    "elif product == 'baby product':\n",
    "    print('On baby product you get 40% off')\n",
    "elif product == 'personal care':\n",
    "    \n",
    "    price = int(input('Enter the price of your product :'))\n",
    "    if price>600:\n",
    "        print('you get Extra 50% OFF')\n",
    "    else:\n",
    "        print('You not get extra 50% OFF because your price is less than Rs600')"
   ]
  }
 ],
 "metadata": {
  "kernelspec": {
   "display_name": "Python 3",
   "language": "python",
   "name": "python3"
  },
  "language_info": {
   "codemirror_mode": {
    "name": "ipython",
    "version": 3
   },
   "file_extension": ".py",
   "mimetype": "text/x-python",
   "name": "python",
   "nbconvert_exporter": "python",
   "pygments_lexer": "ipython3",
   "version": "3.8.8"
  }
 },
 "nbformat": 4,
 "nbformat_minor": 5
}
