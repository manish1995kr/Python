{
 "cells": [
  {
   "cell_type": "markdown",
   "id": "9c14cf4a",
   "metadata": {},
   "source": [
    "# Errors and Exception Handling"
   ]
  },
  {
   "cell_type": "markdown",
   "id": "481a1bca",
   "metadata": {},
   "source": [
    "try:\n",
    "Except:\n",
    "Else:\n",
    "finally:"
   ]
  },
  {
   "cell_type": "markdown",
   "id": "068988c2",
   "metadata": {},
   "source": [
    "try: sahi hua to\n",
    "    else:\n",
    "        finally:"
   ]
  },
  {
   "cell_type": "markdown",
   "id": "6c5df9b0",
   "metadata": {},
   "source": [
    "try: sahi nahi hua to\n",
    "    except:\n",
    "        finally:"
   ]
  },
  {
   "cell_type": "code",
   "execution_count": 1,
   "id": "88cf9fb3",
   "metadata": {},
   "outputs": [
    {
     "name": "stdout",
     "output_type": "stream",
     "text": [
      "i wil exectue if try work\n",
      "i will execute in any condition\n"
     ]
    }
   ],
   "source": [
    "try:\n",
    "    file = open(\"test123.txt\")\n",
    "    file.read()\n",
    "except:\n",
    "    print(\"i will execute if try is not working\")\n",
    "else:\n",
    "    print(\"i wil exectue if try work\")\n",
    "finally:\n",
    "    print(\"i will execute in any condition\")"
   ]
  },
  {
   "cell_type": "code",
   "execution_count": 2,
   "id": "67849533",
   "metadata": {},
   "outputs": [
    {
     "name": "stdout",
     "output_type": "stream",
     "text": [
      "i will execute if try is not working\n",
      "i will execute in any condition\n",
      "shaktiman \n",
      "\n"
     ]
    }
   ],
   "source": [
    "try:\n",
    "    file = open(\"test123.txt\")\n",
    "    file.write(\"the sea is long\")\n",
    "except:\n",
    "    print(\"i will execute if try is not working\")\n",
    "    with open(\"test123.txt\",\"w\") as f:\n",
    "        f.write(\"shaktiman \\n\")\n",
    "else:\n",
    "    print(\"i wil exectue if try work\")\n",
    "finally:\n",
    "    print(\"i will execute in any condition\")\n",
    "    with open(\"test123.txt\",\"r\") as f:\n",
    "        print(f.read())"
   ]
  },
  {
   "cell_type": "code",
   "execution_count": 4,
   "id": "d1983580",
   "metadata": {},
   "outputs": [
    {
     "name": "stdout",
     "output_type": "stream",
     "text": [
      "Try is wrong\n",
      "nested try is wrong\n",
      "5.0\n",
      "12.5\n"
     ]
    }
   ],
   "source": [
    "try:\n",
    "    c = 5/0\n",
    "except:\n",
    "    print(\"Try is wrong\")\n",
    "    try:\n",
    "        c = 25/0\n",
    "    except:\n",
    "        print(\"nested try is wrong\")\n",
    "    else:\n",
    "        print(c)\n",
    "    finally:\n",
    "        c=25/5\n",
    "        print(c)\n",
    "else:\n",
    "    print(c)\n",
    "finally:\n",
    "    c=25/2\n",
    "    print(c)"
   ]
  },
  {
   "cell_type": "markdown",
   "id": "bf81172f",
   "metadata": {},
   "source": [
    "WAP to take two number as input from the user divide the two number and if u havent entered the right input then the error should be handled by u make use of all four blocks of exception handling"
   ]
  },
  {
   "cell_type": "code",
   "execution_count": 11,
   "id": "1d755b7f",
   "metadata": {},
   "outputs": [
    {
     "name": "stdout",
     "output_type": "stream",
     "text": [
      "Enter the first no. : 4\n",
      "enter the second no. :2\n",
      "you enter the right \n",
      "2.0\n"
     ]
    }
   ],
   "source": [
    "try:\n",
    "    a = int(input(\"Enter the first no. : \"))\n",
    "    b = int(input(\"enter the second no. :\"))\n",
    "    c = a/b\n",
    "except:\n",
    "    a = int(input(\"Enter the first no. : \"))\n",
    "    b = int(input(\"enter the second no. :\"))\n",
    "    c = a/b\n",
    "else:\n",
    "    print(\"you enter the right \")\n",
    "finally:\n",
    "    print(c)"
   ]
  },
  {
   "cell_type": "code",
   "execution_count": 23,
   "id": "dadf9514",
   "metadata": {},
   "outputs": [
    {
     "name": "stdout",
     "output_type": "stream",
     "text": [
      "Enter the first no. : 5\n",
      "enter the second no. :o\n",
      "you enter the wrong \n",
      "Enter the first no. : p\n",
      "0.8\n",
      "Enter the first no. : i\n",
      "you enter the wrong \n",
      "Enter the first no. : u\n",
      "0.8\n",
      "Enter the first no. : g\n",
      "you enter the wrong \n",
      "Enter the first no. : 8\n",
      "enter the second no. :2\n",
      "4.0\n",
      "Enter the first no. : 8\n",
      "enter the second no. :2\n",
      "you enter the right \n",
      "4.0\n"
     ]
    }
   ],
   "source": [
    "while True:\n",
    "    \n",
    "    try:\n",
    "        a = int(input(\"Enter the first no. : \"))\n",
    "        b = int(input(\"enter the second no. :\"))\n",
    "        c = a/b\n",
    "    except:\n",
    "        print(\"you enter the wrong \")\n",
    "        try:\n",
    "            a = int(input(\"Enter the first no. : \"))\n",
    "            b = int(input(\"enter the second no. :\"))\n",
    "            c = a/b\n",
    "        except:\n",
    "            pass\n",
    "    \n",
    "    else:\n",
    "        print(\"you enter the right \")\n",
    "        break\n",
    "    finally:\n",
    "        print(c)"
   ]
  },
  {
   "cell_type": "code",
   "execution_count": 19,
   "id": "9a47b5c1",
   "metadata": {},
   "outputs": [
    {
     "data": {
      "text/plain": [
       "[(0, 11), (1, 12), (2, 13), (3, 14), (4, 15)]"
      ]
     },
     "execution_count": 19,
     "metadata": {},
     "output_type": "execute_result"
    }
   ],
   "source": [
    "l = [11,12,13,14,15]\n",
    "v = list(enumerate(l))\n",
    "v"
   ]
  },
  {
   "cell_type": "code",
   "execution_count": 20,
   "id": "b430f3a7",
   "metadata": {},
   "outputs": [
    {
     "data": {
      "text/plain": [
       "[(0, 'm'), (1, 'a'), (2, 'd'), (3, 'a'), (4, 'm')]"
      ]
     },
     "execution_count": 20,
     "metadata": {},
     "output_type": "execute_result"
    }
   ],
   "source": [
    "l = \"madam\"\n",
    "v = list(enumerate(l))\n",
    "v"
   ]
  },
  {
   "cell_type": "code",
   "execution_count": 21,
   "id": "945104e0",
   "metadata": {},
   "outputs": [
    {
     "data": {
      "text/plain": [
       "133"
      ]
     },
     "execution_count": 21,
     "metadata": {},
     "output_type": "execute_result"
    }
   ],
   "source": [
    "eval(\"110+23\")"
   ]
  },
  {
   "cell_type": "code",
   "execution_count": null,
   "id": "f5913be1",
   "metadata": {},
   "outputs": [],
   "source": []
  }
 ],
 "metadata": {
  "kernelspec": {
   "display_name": "Python 3",
   "language": "python",
   "name": "python3"
  },
  "language_info": {
   "codemirror_mode": {
    "name": "ipython",
    "version": 3
   },
   "file_extension": ".py",
   "mimetype": "text/x-python",
   "name": "python",
   "nbconvert_exporter": "python",
   "pygments_lexer": "ipython3",
   "version": "3.8.8"
  }
 },
 "nbformat": 4,
 "nbformat_minor": 5
}
