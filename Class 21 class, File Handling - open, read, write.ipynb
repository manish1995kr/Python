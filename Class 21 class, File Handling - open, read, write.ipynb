{
 "cells": [
  {
   "cell_type": "markdown",
   "id": "939dc613",
   "metadata": {},
   "source": [
    "s = \"A man, A plan, A goodman:\"\n",
    "u need to lower all the characters in the given strings and remove all non-alphanumeric characters from the string and check after removing if the string is palindrome or not."
   ]
  },
  {
   "cell_type": "markdown",
   "id": "c5ab75ea",
   "metadata": {},
   "source": [
    "Q6.Create a Python class called BankAccount which represents a bank account, having as attributes: accountNumber (numeric type), name (name of the account owner as string type), balance.\n",
    "  Create a constructor with parameters: accountNumber, name, balance.\n",
    "  Create a Deposit() method which manages the deposit actions.\n",
    "  Create a Withdrawal() method which manages withdrawals actions.\n",
    "  Create a bankFees() method to apply the bank fees with a percentage of 5% of the balance account.\n",
    "  Create a display()**"
   ]
  },
  {
   "cell_type": "code",
   "execution_count": 20,
   "id": "fdc1c3af",
   "metadata": {},
   "outputs": [
    {
     "name": "stdout",
     "output_type": "stream",
     "text": [
      "account number:13215\n",
      "name:manish\n",
      "balance:1000\n",
      "your deposit amount is:100\n",
      "your total balance is: 1100\n",
      "your withdrawal amount is:200\n",
      "your total balance is: 900\n",
      "5% bankfees applied on your balance: 45.0\n",
      "now your current balance is : 855.0\n",
      "your name manish your account no. 13215 your balance is 855.0\n"
     ]
    }
   ],
   "source": [
    "class bankaccount:\n",
    "    def __init__(self,accountnumber,name,balance):\n",
    "        self.accountnumber = int(input(\"account number:\"))\n",
    "        self.name = input(\"name:\")\n",
    "        self.balance = int(input(\"balance:\"))\n",
    "    def deposit(self):\n",
    "        dep = int(input(\"your deposit amount is:\"))\n",
    "        self.balance = self.balance + dep\n",
    "        print(\"your total balance is:\",self.balance)\n",
    "    def withdrawal(self):\n",
    "        withdraw = int(input(\"your withdrawal amount is:\"))\n",
    "        self.balance = self.balance - withdraw\n",
    "        print(\"your total balance is:\",self.balance)\n",
    "    def bankfee(self):\n",
    "        fee = (self.balance/100)*5\n",
    "        self.balance = self.balance - fee\n",
    "        print(\"5% bankfees applied on your balance:\",fee)\n",
    "        print(\"now your current balance is :\",self.balance)\n",
    "    def display(self):\n",
    "        print(f\"your name {self.name} your account no. {self.accountnumber} your balance is {self.balance}\")\n",
    "\n",
    "bank = bankaccount(3,\"name\",1)\n",
    "bank.deposit()\n",
    "bank.withdrawal()\n",
    "bank.bankfee()\n",
    "bank.display()"
   ]
  },
  {
   "cell_type": "markdown",
   "id": "2a024754",
   "metadata": {},
   "source": [
    "# File Handling"
   ]
  },
  {
   "cell_type": "code",
   "execution_count": 12,
   "id": "9e7e9ba7",
   "metadata": {},
   "outputs": [
    {
     "data": {
      "text/plain": [
       "20"
      ]
     },
     "execution_count": 12,
     "metadata": {},
     "output_type": "execute_result"
    }
   ],
   "source": [
    "file = open(\"test123.txt\",\"x\")\n",
    "file.write(\"the class is glowing\")"
   ]
  },
  {
   "cell_type": "code",
   "execution_count": 13,
   "id": "877dfd48",
   "metadata": {},
   "outputs": [
    {
     "data": {
      "text/plain": [
       "'the class is glowing'"
      ]
     },
     "execution_count": 13,
     "metadata": {},
     "output_type": "execute_result"
    }
   ],
   "source": [
    "file = open(\"test123.txt\",\"r\")\n",
    "file.read()"
   ]
  },
  {
   "cell_type": "code",
   "execution_count": 14,
   "id": "ec5da987",
   "metadata": {},
   "outputs": [
    {
     "data": {
      "text/plain": [
       "23"
      ]
     },
     "execution_count": 14,
     "metadata": {},
     "output_type": "execute_result"
    }
   ],
   "source": [
    "file = open(\"test123.txt\",\"a\")\n",
    "file.write(\"rain is heavy \\n\")\n",
    "file.write(\"The dog is nice \\n\")\n",
    "file.write(\"we are the team flash \\n\")"
   ]
  },
  {
   "cell_type": "code",
   "execution_count": 16,
   "id": "442bba3e",
   "metadata": {},
   "outputs": [
    {
     "name": "stdout",
     "output_type": "stream",
     "text": [
      "the class is glowingrain is heavy \n",
      "\n",
      "The dog is nice \n",
      "\n",
      "we are the team flash \n",
      "\n"
     ]
    }
   ],
   "source": [
    "file = open(\"test123.txt\",\"r\")\n",
    "for i in file:\n",
    "    print(i) "
   ]
  },
  {
   "cell_type": "code",
   "execution_count": null,
   "id": "217b4d83",
   "metadata": {},
   "outputs": [],
   "source": []
  }
 ],
 "metadata": {
  "kernelspec": {
   "display_name": "Python 3",
   "language": "python",
   "name": "python3"
  },
  "language_info": {
   "codemirror_mode": {
    "name": "ipython",
    "version": 3
   },
   "file_extension": ".py",
   "mimetype": "text/x-python",
   "name": "python",
   "nbconvert_exporter": "python",
   "pygments_lexer": "ipython3",
   "version": "3.8.8"
  }
 },
 "nbformat": 4,
 "nbformat_minor": 5
}
