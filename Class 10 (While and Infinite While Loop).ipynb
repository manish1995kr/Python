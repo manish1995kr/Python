{
 "cells": [
  {
   "cell_type": "markdown",
   "id": "ffb673de",
   "metadata": {},
   "source": [
    "# While Loops"
   ]
  },
  {
   "cell_type": "code",
   "execution_count": 1,
   "id": "d7696ac2",
   "metadata": {},
   "outputs": [
    {
     "name": "stdout",
     "output_type": "stream",
     "text": [
      "1\n",
      "2\n",
      "3\n",
      "4\n",
      "5\n",
      "6\n",
      "7\n",
      "8\n",
      "9\n"
     ]
    }
   ],
   "source": [
    "i=1\n",
    "while i<10:\n",
    "    print(i)\n",
    "    i=i+1"
   ]
  },
  {
   "cell_type": "code",
   "execution_count": 2,
   "id": "1b6e86b4",
   "metadata": {},
   "outputs": [
    {
     "name": "stdout",
     "output_type": "stream",
     "text": [
      "2\n",
      "4\n",
      "6\n",
      "8\n",
      "10\n",
      "12\n",
      "14\n",
      "16\n",
      "18\n",
      "20\n"
     ]
    }
   ],
   "source": [
    "i=0\n",
    "while i<=18:\n",
    "    i=i+2\n",
    "    print(i)"
   ]
  },
  {
   "cell_type": "code",
   "execution_count": 3,
   "id": "4818b9a0",
   "metadata": {},
   "outputs": [
    {
     "name": "stdout",
     "output_type": "stream",
     "text": [
      "1\n",
      "2\n",
      "3\n",
      "4\n",
      "done\n"
     ]
    }
   ],
   "source": [
    "i=0\n",
    "while i<4:\n",
    "    i=i+1\n",
    "    print(i)\n",
    "else:\n",
    "    print('done')"
   ]
  },
  {
   "cell_type": "code",
   "execution_count": 4,
   "id": "e2efc61e",
   "metadata": {},
   "outputs": [
    {
     "name": "stdout",
     "output_type": "stream",
     "text": [
      "m\n",
      "a\n"
     ]
    }
   ],
   "source": [
    "for i in \"madrid\":\n",
    "    if i==\"d\":\n",
    "        break\n",
    "    else:\n",
    "        print(i)"
   ]
  },
  {
   "cell_type": "code",
   "execution_count": 7,
   "id": "670c585c",
   "metadata": {},
   "outputs": [
    {
     "name": "stdout",
     "output_type": "stream",
     "text": [
      "m\n",
      "a\n",
      "r\n",
      "i\n"
     ]
    }
   ],
   "source": [
    "for i in \"madrid\":\n",
    "    if i==\"d\":\n",
    "        continue\n",
    "        print(i)\n",
    "    else:\n",
    "        print(i)"
   ]
  },
  {
   "cell_type": "code",
   "execution_count": 2,
   "id": "f5f88c24",
   "metadata": {},
   "outputs": [
    {
     "name": "stdout",
     "output_type": "stream",
     "text": [
      "m\n",
      "a\n",
      "d\n",
      "r\n",
      "i\n",
      "d\n"
     ]
    }
   ],
   "source": [
    "for i in \"madrid\":\n",
    "    if i==\"d\":\n",
    "        pass\n",
    "        print(i)\n",
    "    else:\n",
    "        print(i)"
   ]
  },
  {
   "cell_type": "markdown",
   "id": "ea8517cd",
   "metadata": {},
   "source": [
    "# Infinite While Loop"
   ]
  },
  {
   "cell_type": "code",
   "execution_count": 10,
   "id": "6004a860",
   "metadata": {},
   "outputs": [
    {
     "name": "stdout",
     "output_type": "stream",
     "text": [
      "0\n",
      "1\n",
      "2\n",
      "3\n",
      "4\n",
      "5\n",
      "6\n",
      "7\n",
      "8\n",
      "9\n",
      "10\n",
      "11\n",
      "12\n",
      "13\n",
      "14\n",
      "15\n",
      "16\n",
      "17\n",
      "18\n",
      "19\n",
      "20\n"
     ]
    }
   ],
   "source": [
    "i=0\n",
    "while True:\n",
    "    print(i)\n",
    "    i=i+1\n",
    "    if i>20:\n",
    "        break"
   ]
  },
  {
   "cell_type": "markdown",
   "id": "e84758ee",
   "metadata": {},
   "source": [
    "# write a program to print all even no. using infinite while loop between 300 to 500"
   ]
  },
  {
   "cell_type": "code",
   "execution_count": 19,
   "id": "a7d13ccc",
   "metadata": {},
   "outputs": [
    {
     "name": "stdout",
     "output_type": "stream",
     "text": [
      "300,302,304,306,308,310,312,314,316,318,320,322,324,326,328,330,332,334,336,338,340,342,344,346,348,350,352,354,356,358,360,362,364,366,368,370,372,374,376,378,380,382,384,386,388,390,392,394,396,398,400,402,404,406,408,410,412,414,416,418,420,422,424,426,428,430,432,434,436,438,440,442,444,446,448,450,452,454,456,458,460,462,464,466,468,470,472,474,476,478,480,482,484,486,488,490,492,494,496,498,500,"
     ]
    }
   ],
   "source": [
    "while True:\n",
    "    for i in range(300,501):\n",
    "        if i%2==0:\n",
    "            print(i,end=\",\")\n",
    "        elif i%2!=0:\n",
    "            pass\n",
    "    break"
   ]
  },
  {
   "cell_type": "code",
   "execution_count": 26,
   "id": "63c96d0b",
   "metadata": {},
   "outputs": [
    {
     "name": "stdout",
     "output_type": "stream",
     "text": [
      "300,302,304,306,308,310,312,314,316,318,320,322,324,326,328,330,332,334,336,338,340,342,344,346,348,350,352,354,356,358,360,362,364,366,368,370,372,374,376,378,380,382,384,386,388,390,392,394,396,398,400,402,404,406,408,410,412,414,416,418,420,422,424,426,428,430,432,434,436,438,440,442,444,446,448,450,452,454,456,458,460,462,464,466,468,470,472,474,476,478,480,482,484,486,488,490,492,494,496,498,500,"
     ]
    }
   ],
   "source": [
    "i=300\n",
    "while i>=300 and i<=500:\n",
    "    if i%2==0:\n",
    "        print(i,end=\",\")\n",
    "        i=i+1\n",
    "    else:\n",
    "        i = i+1\n",
    "    "
   ]
  },
  {
   "cell_type": "markdown",
   "id": "82ef4463",
   "metadata": {},
   "source": [
    "# write a program that takes a string and print characters of that string, but if character found \"i\" then break the printing of characters"
   ]
  },
  {
   "cell_type": "code",
   "execution_count": 31,
   "id": "ec7e3545",
   "metadata": {},
   "outputs": [
    {
     "name": "stdout",
     "output_type": "stream",
     "text": [
      "Madr"
     ]
    }
   ],
   "source": [
    "for i in \"Madrid\":\n",
    "    if i==\"i\":\n",
    "        break\n",
    "    else:\n",
    "        print(i,end=\"\")"
   ]
  },
  {
   "cell_type": "code",
   "execution_count": 32,
   "id": "dc0615e5",
   "metadata": {},
   "outputs": [
    {
     "name": "stdout",
     "output_type": "stream",
     "text": [
      "enter the name :madrid\n",
      "madr"
     ]
    }
   ],
   "source": [
    "r = input('enter the name :')\n",
    "for i in r:\n",
    "    if i==\"i\":\n",
    "        break\n",
    "    else:\n",
    "        print(i,end=\"\")"
   ]
  },
  {
   "cell_type": "code",
   "execution_count": 36,
   "id": "82177c21",
   "metadata": {},
   "outputs": [
    {
     "name": "stdout",
     "output_type": "stream",
     "text": [
      "Madr"
     ]
    }
   ],
   "source": [
    "while True:\n",
    "    for i in \"Madrid\":\n",
    "        if i==\"i\":\n",
    "            break\n",
    "        else:\n",
    "            print(i,end=\"\")\n",
    "    break\n",
    "    "
   ]
  },
  {
   "cell_type": "markdown",
   "id": "018af76b",
   "metadata": {},
   "source": [
    "# write a program to print the square of numbers from 1 to 10 except 3 and 6 using while loops."
   ]
  },
  {
   "cell_type": "code",
   "execution_count": 46,
   "id": "bd8c754d",
   "metadata": {},
   "outputs": [
    {
     "name": "stdout",
     "output_type": "stream",
     "text": [
      "square of 1 is 1\n",
      "square of 2 is 4\n",
      "3 this no. is skip\n",
      "square of 4 is 16\n",
      "square of 5 is 25\n",
      "6 this no. is skip\n",
      "square of 7 is 49\n",
      "square of 8 is 64\n",
      "square of 9 is 81\n",
      "square of 10 is 100\n"
     ]
    }
   ],
   "source": [
    "i =1\n",
    "while i>=1 and i<=10:\n",
    "    if i==3 or i==6:\n",
    "        print(i,'this no. is skip')\n",
    "        pass\n",
    "        i=i+1\n",
    "    else:\n",
    "        print('square of', i, 'is',i*i)\n",
    "        i=i+1\n",
    "    "
   ]
  },
  {
   "cell_type": "code",
   "execution_count": null,
   "id": "21ed4939",
   "metadata": {},
   "outputs": [],
   "source": []
  }
 ],
 "metadata": {
  "kernelspec": {
   "display_name": "Python 3",
   "language": "python",
   "name": "python3"
  },
  "language_info": {
   "codemirror_mode": {
    "name": "ipython",
    "version": 3
   },
   "file_extension": ".py",
   "mimetype": "text/x-python",
   "name": "python",
   "nbconvert_exporter": "python",
   "pygments_lexer": "ipython3",
   "version": "3.8.8"
  }
 },
 "nbformat": 4,
 "nbformat_minor": 5
}
