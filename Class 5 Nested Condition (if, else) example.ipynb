{
 "cells": [
  {
   "cell_type": "code",
   "execution_count": 1,
   "id": "be5d24c1",
   "metadata": {},
   "outputs": [
    {
     "name": "stdout",
     "output_type": "stream",
     "text": [
      "workday yes or no :no\n",
      "umbrella yes or no :no\n",
      "hood yes or no :no\n",
      "rain type slow or fast :slow\n",
      "i am safe at home\n"
     ]
    }
   ],
   "source": [
    "workday = input('workday yes or no :')\n",
    "umb = input('umbrella yes or no :')\n",
    "hood = input('hood yes or no :')\n",
    "rain = input('rain type slow or fast :')\n",
    "if workday == 'yes':\n",
    "    if umb == 'yes':\n",
    "        print('safe')\n",
    "    else:\n",
    "        if rain == 'slow':\n",
    "            if hood == 'yes':\n",
    "                print('safe')\n",
    "            else:\n",
    "                print('not safe')\n",
    "        else:\n",
    "            print('not safe')\n",
    "elif workday == 'no':\n",
    "    print('i am safe at home')\n",
    "    "
   ]
  },
  {
   "cell_type": "code",
   "execution_count": null,
   "id": "a4dd39d1",
   "metadata": {},
   "outputs": [],
   "source": [
    "product = input('Enter the product by name electronics, appareles, baby product, personal care : ')\n",
    "if product == 'electronics':\n",
    "    pro = input('Enter which one you want to buy phone, laptop, ac, refrig : ')\n",
    "    if pro == 'phone':\n",
    "        print('you get 10% off on phone')\n",
    "    elif pro == 'laptop':\n",
    "        print('you get 5% off on laptop')\n",
    "    elif pro == 'ac':\n",
    "        print('you get 20% off on ac')\n",
    "    elif pro == 'refrig':\n",
    "        print('you get 20% off on refrig')\n",
    "elif product == 'appareles':\n",
    "    type1 = input('professional or personal')\n",
    "    if type1 == 'personal':\n",
    "        print('gender wise females proffesional 20% off')\n",
    "    elif type1 == 'professional':\n",
    "        print('professional 30% off')\n",
    "elif product == 'baby product':\n",
    "    print('On baby product you get 40% off')\n",
    "elif product == 'personal care':\n",
    "    \n",
    "    price = int(input('Enter the price of your product :'))\n",
    "    if price>600:\n",
    "        print('you get Extra 50% OFF')\n",
    "    else:\n",
    "        print('You not get extra 50% OFF because your price is less than Rs600')"
   ]
  },
  {
   "cell_type": "code",
   "execution_count": 12,
   "id": "269b2d81",
   "metadata": {},
   "outputs": [
    {
     "name": "stdout",
     "output_type": "stream",
     "text": [
      "What you want to eat burger, Pizza, Hotdog :hotdog\n",
      "enter the filing type cheese, paneer, chicken :cheese\n",
      "your total price is Rs 180\n"
     ]
    }
   ],
   "source": [
    "menu = input('What you want to eat burger, Pizza, Hotdog :')\n",
    "if menu =='burger':\n",
    "    filing = input('enter the filing type cheese, paneer, chicken :')\n",
    "    if filing == 'cheese':\n",
    "        print('your total price is Rs 50')\n",
    "    elif filing =='paneer':\n",
    "        print('your total price is Rs 100')\n",
    "    elif filing =='chicken':\n",
    "        print('your total price is Rs 150')\n",
    "elif menu =='pizza':\n",
    "    topping = input('enter the topping cheese, paneer, mushroom :')\n",
    "    if topping =='cheese':\n",
    "        print('your total price is Rs 80')\n",
    "    elif topping =='paneer':\n",
    "        print('your total price is Rs 240')\n",
    "    elif topping =='mushroom':\n",
    "        print('your total price is Rs 200')\n",
    "elif menu =='hotdog':\n",
    "    fil =input('enter the filing type cheese, paneer, chicken :')\n",
    "    if fil=='cheese':\n",
    "        print('your total price is Rs 180')\n",
    "    elif fil=='paneer':\n",
    "        print('your total price is Rs 200')\n",
    "    elif fil=='chicken':\n",
    "        print('your total price is Rs 250')"
   ]
  }
 ],
 "metadata": {
  "kernelspec": {
   "display_name": "Python 3",
   "language": "python",
   "name": "python3"
  },
  "language_info": {
   "codemirror_mode": {
    "name": "ipython",
    "version": 3
   },
   "file_extension": ".py",
   "mimetype": "text/x-python",
   "name": "python",
   "nbconvert_exporter": "python",
   "pygments_lexer": "ipython3",
   "version": "3.8.8"
  }
 },
 "nbformat": 4,
 "nbformat_minor": 5
}
