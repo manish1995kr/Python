{
 "cells": [
  {
   "cell_type": "markdown",
   "id": "7ee5ba64",
   "metadata": {},
   "source": [
    "# Iterators and Generators"
   ]
  },
  {
   "cell_type": "code",
   "execution_count": 9,
   "id": "af8df860",
   "metadata": {},
   "outputs": [
    {
     "data": {
      "text/plain": [
       "list_iterator"
      ]
     },
     "execution_count": 9,
     "metadata": {},
     "output_type": "execute_result"
    }
   ],
   "source": [
    "l = [1,2,3,4]\n",
    "a = iter(l)\n",
    "type(a)"
   ]
  },
  {
   "cell_type": "code",
   "execution_count": 10,
   "id": "475e709a",
   "metadata": {},
   "outputs": [
    {
     "name": "stdout",
     "output_type": "stream",
     "text": [
      "<list_iterator object at 0x000001DB73C25F40>\n"
     ]
    }
   ],
   "source": [
    "print(a)"
   ]
  },
  {
   "cell_type": "code",
   "execution_count": 11,
   "id": "3d211039",
   "metadata": {},
   "outputs": [
    {
     "data": {
      "text/plain": [
       "1"
      ]
     },
     "execution_count": 11,
     "metadata": {},
     "output_type": "execute_result"
    }
   ],
   "source": [
    "next(a)"
   ]
  },
  {
   "cell_type": "code",
   "execution_count": 12,
   "id": "d158f8f4",
   "metadata": {},
   "outputs": [
    {
     "data": {
      "text/plain": [
       "2"
      ]
     },
     "execution_count": 12,
     "metadata": {},
     "output_type": "execute_result"
    }
   ],
   "source": [
    "b = next(a)\n",
    "b"
   ]
  },
  {
   "cell_type": "code",
   "execution_count": 14,
   "id": "aeb4785b",
   "metadata": {},
   "outputs": [
    {
     "data": {
      "text/plain": [
       "1"
      ]
     },
     "execution_count": 14,
     "metadata": {},
     "output_type": "execute_result"
    }
   ],
   "source": [
    "b= b-1\n",
    "b"
   ]
  },
  {
   "cell_type": "code",
   "execution_count": 18,
   "id": "2496e2ef",
   "metadata": {},
   "outputs": [
    {
     "data": {
      "text/plain": [
       "reversed"
      ]
     },
     "execution_count": 18,
     "metadata": {},
     "output_type": "execute_result"
    }
   ],
   "source": [
    "s = \"string\"\n",
    "s = reversed(s)\n",
    "type(s)"
   ]
  },
  {
   "cell_type": "code",
   "execution_count": 19,
   "id": "510c501f",
   "metadata": {},
   "outputs": [
    {
     "data": {
      "text/plain": [
       "<reversed at 0x1db73c25b50>"
      ]
     },
     "execution_count": 19,
     "metadata": {},
     "output_type": "execute_result"
    }
   ],
   "source": [
    "s"
   ]
  },
  {
   "cell_type": "code",
   "execution_count": 20,
   "id": "9e1497f2",
   "metadata": {},
   "outputs": [
    {
     "name": "stdout",
     "output_type": "stream",
     "text": [
      "gnirts"
     ]
    }
   ],
   "source": [
    "for i in s:\n",
    "    print(i,end = \"\")"
   ]
  },
  {
   "cell_type": "code",
   "execution_count": 21,
   "id": "68226a7e",
   "metadata": {},
   "outputs": [
    {
     "data": {
      "text/plain": [
       "31"
      ]
     },
     "execution_count": 21,
     "metadata": {},
     "output_type": "execute_result"
    }
   ],
   "source": [
    "def fun(a,b):\n",
    "    return a+b\n",
    "fun(10,21)"
   ]
  },
  {
   "cell_type": "markdown",
   "id": "3e0c093c",
   "metadata": {},
   "source": [
    "# Generator"
   ]
  },
  {
   "cell_type": "code",
   "execution_count": 1,
   "id": "6e1ab7f1",
   "metadata": {},
   "outputs": [
    {
     "data": {
      "text/plain": [
       "<generator object fun at 0x000002EE080F0660>"
      ]
     },
     "execution_count": 1,
     "metadata": {},
     "output_type": "execute_result"
    }
   ],
   "source": [
    "def fun(a,b):\n",
    "    yield a+b\n",
    "fun(10,21)"
   ]
  },
  {
   "cell_type": "code",
   "execution_count": 3,
   "id": "ed11a92a",
   "metadata": {},
   "outputs": [
    {
     "name": "stdout",
     "output_type": "stream",
     "text": [
      "<generator object fun at 0x000002EE080F0270>\n"
     ]
    }
   ],
   "source": [
    "c = fun(10,21)\n",
    "print(c)"
   ]
  },
  {
   "cell_type": "code",
   "execution_count": 23,
   "id": "ae2d358f",
   "metadata": {},
   "outputs": [
    {
     "data": {
      "text/plain": [
       "77"
      ]
     },
     "execution_count": 23,
     "metadata": {},
     "output_type": "execute_result"
    }
   ],
   "source": [
    "a = iter(fun(23,54))\n",
    "next(a)"
   ]
  },
  {
   "cell_type": "code",
   "execution_count": 24,
   "id": "3d609189",
   "metadata": {},
   "outputs": [
    {
     "name": "stdout",
     "output_type": "stream",
     "text": [
      "<generator object fun at 0x000001DB73D10890>\n"
     ]
    }
   ],
   "source": [
    "a = iter(fun(23,54))\n",
    "print(a)"
   ]
  },
  {
   "cell_type": "code",
   "execution_count": 25,
   "id": "eed378fa",
   "metadata": {},
   "outputs": [
    {
     "name": "stdout",
     "output_type": "stream",
     "text": [
      "40\n",
      "dsg eg\n"
     ]
    }
   ],
   "source": [
    "def fun(a,b):\n",
    "    yield a+b\n",
    "    print(\"dsg eg\")\n",
    "fun(10,21)\n",
    "for i in fun(10,30):\n",
    "    print(i)"
   ]
  },
  {
   "cell_type": "markdown",
   "id": "0669ce74",
   "metadata": {},
   "source": [
    "# Map"
   ]
  },
  {
   "cell_type": "code",
   "execution_count": 26,
   "id": "a8bd93dc",
   "metadata": {},
   "outputs": [
    {
     "data": {
      "text/plain": [
       "32.0"
      ]
     },
     "execution_count": 26,
     "metadata": {},
     "output_type": "execute_result"
    }
   ],
   "source": [
    "def cel_fah(c):\n",
    "    f = 9/5*c+32\n",
    "    return f\n",
    "cel_fah(0)"
   ]
  },
  {
   "cell_type": "code",
   "execution_count": 27,
   "id": "825243f4",
   "metadata": {},
   "outputs": [
    {
     "data": {
      "text/plain": [
       "<map at 0x1db73d12340>"
      ]
     },
     "execution_count": 27,
     "metadata": {},
     "output_type": "execute_result"
    }
   ],
   "source": [
    "map(cel_fah,[0,10,20,30,40])"
   ]
  },
  {
   "cell_type": "code",
   "execution_count": 28,
   "id": "12f94acc",
   "metadata": {},
   "outputs": [
    {
     "data": {
      "text/plain": [
       "[32.0, 50.0, 68.0, 86.0, 104.0]"
      ]
     },
     "execution_count": 28,
     "metadata": {},
     "output_type": "execute_result"
    }
   ],
   "source": [
    "list(map(cel_fah,[0,10,20,30,40]))"
   ]
  },
  {
   "cell_type": "code",
   "execution_count": 29,
   "id": "6d0e30c6",
   "metadata": {},
   "outputs": [
    {
     "data": {
      "text/plain": [
       "[32.0, 50.0, 68.0, 86.0, 104.0]"
      ]
     },
     "execution_count": 29,
     "metadata": {},
     "output_type": "execute_result"
    }
   ],
   "source": [
    "# anonymous function : \"Lambda\"\n",
    "# lambda c:9/5*c+32\n",
    "list(map(lambda c:9/5*c+32,[0,10,20,30,40]))"
   ]
  },
  {
   "cell_type": "code",
   "execution_count": 36,
   "id": "ebae68d5",
   "metadata": {},
   "outputs": [
    {
     "data": {
      "text/plain": [
       "[6, 15, 48]"
      ]
     },
     "execution_count": 36,
     "metadata": {},
     "output_type": "execute_result"
    }
   ],
   "source": [
    "# WAP to print the area of rectangle given the list of lengths and list\n",
    "# of breadths using MAP.\n",
    "list(map(lambda l,b:l*b,[2,3,6],[3,5,8]))"
   ]
  },
  {
   "cell_type": "code",
   "execution_count": 39,
   "id": "95425378",
   "metadata": {},
   "outputs": [
    {
     "data": {
      "text/plain": [
       "4186.666666666667"
      ]
     },
     "execution_count": 39,
     "metadata": {},
     "output_type": "execute_result"
    }
   ],
   "source": [
    "vol = lambda r,pie:((4/3)*pie)*r**3\n",
    "vol(10,3.14)"
   ]
  },
  {
   "cell_type": "code",
   "execution_count": 40,
   "id": "55eade62",
   "metadata": {},
   "outputs": [
    {
     "data": {
      "text/plain": [
       "[2, 9, 64, 625]"
      ]
     },
     "execution_count": 40,
     "metadata": {},
     "output_type": "execute_result"
    }
   ],
   "source": [
    "# WAp to take the number in bases and raised to power compute thier\n",
    "# power.\n",
    "list(map(lambda x,y:x**y,[2,3,4,5],[1,2,3,4]))"
   ]
  },
  {
   "cell_type": "code",
   "execution_count": 42,
   "id": "829f08da",
   "metadata": {},
   "outputs": [
    {
     "data": {
      "text/plain": [
       "[True, False, True, True]"
      ]
     },
     "execution_count": 42,
     "metadata": {},
     "output_type": "execute_result"
    }
   ],
   "source": [
    "fruits = [\"Apple\",\"Orange\",\"Appicot\",\"Avacados\"]\n",
    "list(map(lambda x:x[0]==\"A\",fruits))"
   ]
  },
  {
   "cell_type": "code",
   "execution_count": 43,
   "id": "f534605c",
   "metadata": {},
   "outputs": [
    {
     "data": {
      "text/plain": [
       "[True, False, True, True]"
      ]
     },
     "execution_count": 43,
     "metadata": {},
     "output_type": "execute_result"
    }
   ],
   "source": [
    "fruits = [\"Apple\",\"Orange\",\"Appicot\",\"Avacados\"]\n",
    "list(map(lambda x:x.startswith(\"A\"),fruits))"
   ]
  },
  {
   "cell_type": "code",
   "execution_count": 45,
   "id": "53b8fa9e",
   "metadata": {},
   "outputs": [
    {
     "data": {
      "text/plain": [
       "[['a', 'b', 'c'], ['b', 'c', 'd']]"
      ]
     },
     "execution_count": 45,
     "metadata": {},
     "output_type": "execute_result"
    }
   ],
   "source": [
    "# Write a Program to listify the lis of given strings individually\n",
    "# using python MAP.\n",
    "l = [\"abc\",\"bcd\"]\n",
    "# l1 = [\"a,b,c\"],[b,c,d]\n",
    "list(map(lambda x:list(x),l))"
   ]
  },
  {
   "cell_type": "code",
   "execution_count": 1,
   "id": "67e3b4f8",
   "metadata": {
    "scrolled": true
   },
   "outputs": [
    {
     "name": "stdout",
     "output_type": "stream",
     "text": [
      "4\n"
     ]
    }
   ],
   "source": [
    "# Write a Python program to count the same pair in two given lists.\n",
    "# use map() function.\n",
    "\n",
    "a = list(map(lambda x,y:x==y,[1,2,3,4,5,6,7,8,9],[2,3,3,4,0,8,7,8,5]))\n",
    "c = 0\n",
    "for i in a:\n",
    "    if i==True:\n",
    "        c=c+1\n",
    "print(c)"
   ]
  },
  {
   "cell_type": "code",
   "execution_count": 4,
   "id": "11e5e8a8",
   "metadata": {},
   "outputs": [
    {
     "name": "stdout",
     "output_type": "stream",
     "text": [
      "8\n"
     ]
    }
   ],
   "source": [
    "l1 = [1,2,3,4,5,6,7,8,9]\n",
    "l2 = [2,3,3,4,0,8,7,8,5]\n",
    "c=0\n",
    "for i in l1:  \n",
    "    for j in l2:\n",
    "        if i==j:\n",
    "            c=c+1\n",
    "print(c)"
   ]
  },
  {
   "cell_type": "code",
   "execution_count": 5,
   "id": "1328a232",
   "metadata": {},
   "outputs": [
    {
     "data": {
      "text/plain": [
       "4"
      ]
     },
     "execution_count": 5,
     "metadata": {},
     "output_type": "execute_result"
    }
   ],
   "source": [
    "a = list(map(lambda x,y:x==y,[1,2,3,4,5,6,7,8,9],[2,3,3,4,0,8,7,8,5]))\n",
    "a.count(True)"
   ]
  },
  {
   "cell_type": "code",
   "execution_count": 9,
   "id": "50f06cdb",
   "metadata": {},
   "outputs": [
    {
     "data": {
      "text/plain": [
       "['Apple', 'Avacados']"
      ]
     },
     "execution_count": 9,
     "metadata": {},
     "output_type": "execute_result"
    }
   ],
   "source": [
    "fruits = [\"Apple\",\"Avacados\",\"Orange\"]\n",
    "list(filter(lambda x:x[0]==\"A\",fruits))"
   ]
  },
  {
   "cell_type": "code",
   "execution_count": null,
   "id": "eedc4e18",
   "metadata": {},
   "outputs": [],
   "source": []
  }
 ],
 "metadata": {
  "kernelspec": {
   "display_name": "Python 3",
   "language": "python",
   "name": "python3"
  },
  "language_info": {
   "codemirror_mode": {
    "name": "ipython",
    "version": 3
   },
   "file_extension": ".py",
   "mimetype": "text/x-python",
   "name": "python",
   "nbconvert_exporter": "python",
   "pygments_lexer": "ipython3",
   "version": "3.8.8"
  }
 },
 "nbformat": 4,
 "nbformat_minor": 5
}
