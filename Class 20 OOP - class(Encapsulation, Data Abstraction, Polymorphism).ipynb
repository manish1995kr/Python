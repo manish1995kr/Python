{
 "cells": [
  {
   "cell_type": "markdown",
   "id": "529ad556",
   "metadata": {},
   "source": [
    "# Encapsulation"
   ]
  },
  {
   "cell_type": "markdown",
   "id": "76d69577",
   "metadata": {},
   "source": [
    "# self.maxspeed = max speed    - public\n",
    "# self._color = color    - protected\n",
    "# self.__name = name    - private"
   ]
  },
  {
   "cell_type": "code",
   "execution_count": 4,
   "id": "62b53a07",
   "metadata": {},
   "outputs": [
    {
     "name": "stdout",
     "output_type": "stream",
     "text": [
      " the amount withdrawn is 3200\n",
      "the netbalance is : 9684\n"
     ]
    },
    {
     "data": {
      "text/plain": [
       "12884"
      ]
     },
     "execution_count": 4,
     "metadata": {},
     "output_type": "execute_result"
    }
   ],
   "source": [
    "# Data Encapsulation\n",
    "\n",
    "class bank:\n",
    "    def __init__(self,withdrawal,deposit,balance):\n",
    "        self._withdrawal = withdrawal\n",
    "        self.__deposit = deposit\n",
    "        self.balance = balance\n",
    "    def drawn(self):\n",
    "        print(f\" the amount withdrawn is {self._withdrawal}\")\n",
    "        print(\"the netbalance is :\", self.balance - self._withdrawal)\n",
    "acc = bank(3200,1000,12884)\n",
    "acc.drawn()\n",
    "acc._withdrawal\n",
    "acc._bank__deposit     #mangled name\n",
    "acc.balance"
   ]
  },
  {
   "cell_type": "markdown",
   "id": "4c9b59ea",
   "metadata": {},
   "source": [
    "# Data Abstraction"
   ]
  },
  {
   "cell_type": "code",
   "execution_count": 6,
   "id": "da0d5fad",
   "metadata": {},
   "outputs": [
    {
     "name": "stdout",
     "output_type": "stream",
     "text": [
      "the Honda City is of black and has maxspeed of 340\n",
      "340\n",
      "Honda City\n"
     ]
    },
    {
     "data": {
      "text/plain": [
       "'black'"
      ]
     },
     "execution_count": 6,
     "metadata": {},
     "output_type": "execute_result"
    }
   ],
   "source": [
    "from abc import ABC, abstractmethod\n",
    "\n",
    "class Car(ABC):\n",
    "    def __init__(self,name,color,maxspeed):\n",
    "        self._name = name  #protected variable\n",
    "        self.__color = color \n",
    "        self.maxspeed = maxspeed\n",
    "    def show(self):\n",
    "        print(f\"the {self._name} is of {self.__color} and has maxspeed of {self.maxspeed}\")\n",
    "\n",
    "    @abstractmethod\n",
    "    def price(self,x):\n",
    "        print(\"this method is hidden can't open or use this\",x)\n",
    "\n",
    "class Sedan(Car):\n",
    "      def price(self):\n",
    "             print(\"this is price of sedan\",100000)\n",
    "\n",
    "#obj2 = Car(\"KIA\",\"Black\",300)\n",
    "race = Sedan(\"Honda City\",\"black\",340)\n",
    "\n",
    "race.show()\n",
    "print(race.maxspeed)\n",
    "print(race._name)\n",
    "race._Car__color #mangled name"
   ]
  },
  {
   "cell_type": "code",
   "execution_count": 12,
   "id": "6bad70ab",
   "metadata": {},
   "outputs": [
    {
     "name": "stdout",
     "output_type": "stream",
     "text": [
      "this is price of Sedan  1000000\n"
     ]
    }
   ],
   "source": [
    "from abc import ABC, abstractmethod\n",
    "\n",
    "class Car(ABC):\n",
    "    def __init__(self,name,color,maxspeed):\n",
    "        self._name = name  #protected variable\n",
    "        self.__color = color \n",
    "        self.maxspeed = maxspeed\n",
    "    def show(self):\n",
    "        print(f\"the {self._name} is of {self.__color} and has maxspeed of {self.maxspeed}\")\n",
    "\n",
    "    @abstractmethod\n",
    "    def price(self,x):\n",
    "        print(\"this method is hidden cannot open or use this\",x)\n",
    "# c1 = Car(\"Honda\",\"black\",340)\n",
    "# c1.show()\n",
    "class Sedan(Car):\n",
    "    def price(self):\n",
    "            print(\"this is price of Sedan \",1000000)\n",
    "\n",
    "speed = Sedan(\"Honda City\",\"black\",340)\n",
    "#obj1.show()\n",
    "#print(obj1.maxspeed)\n",
    "#print(obj1._name)\n",
    "#obj1._Car__color\n",
    "#obj1.price1()\n",
    "speed.price()"
   ]
  },
  {
   "cell_type": "markdown",
   "id": "ee5158a2",
   "metadata": {},
   "source": [
    "# Polymorphism"
   ]
  },
  {
   "cell_type": "code",
   "execution_count": 15,
   "id": "a9b6f793",
   "metadata": {},
   "outputs": [
    {
     "name": "stdout",
     "output_type": "stream",
     "text": [
      "ferari is  having top speed of 320\n"
     ]
    }
   ],
   "source": [
    "class Ferari:\n",
    "    def features(self):\n",
    "        print('ferari is  having top speed of 320')\n",
    "    \n",
    "class Mercedes:\n",
    "    def features(self):\n",
    "        print('Mercedes is having top speed of 340')\n",
    "        \n",
    "f = Ferari()\n",
    "m = Mercedes()\n",
    "f.features()"
   ]
  },
  {
   "cell_type": "code",
   "execution_count": 16,
   "id": "c11fc2ee",
   "metadata": {},
   "outputs": [
    {
     "name": "stdout",
     "output_type": "stream",
     "text": [
      "Mercedes is having top speed of 340\n"
     ]
    }
   ],
   "source": [
    "m.features()"
   ]
  },
  {
   "cell_type": "code",
   "execution_count": 17,
   "id": "217ebfb3",
   "metadata": {},
   "outputs": [
    {
     "name": "stdout",
     "output_type": "stream",
     "text": [
      "ferari is  having top speed of 320\n",
      "Mercedes is having top speed of 340\n"
     ]
    }
   ],
   "source": [
    "for i in (f,m):\n",
    "    i.features()"
   ]
  },
  {
   "cell_type": "markdown",
   "id": "0c740451",
   "metadata": {},
   "source": [
    "WAC shape take the input from the user regrading the shape and then make a method called area and take the side input from the user and then compute the area of the shape"
   ]
  },
  {
   "cell_type": "code",
   "execution_count": 22,
   "id": "01074dac",
   "metadata": {},
   "outputs": [
    {
     "name": "stdout",
     "output_type": "stream",
     "text": [
      "Enter the shape: Square\n",
      "Enter the Side :3\n",
      "the area is : 9\n"
     ]
    }
   ],
   "source": [
    "class shape:\n",
    "    def __init__(self,s):\n",
    "        self.s = input(\"Enter the shape: \")\n",
    "    def area(self):\n",
    "        if self.s==\"rectangle\":\n",
    "            l = int(input(\"Enter the Length : \"))\n",
    "            b = int(input(\"Enter the Breadth :\"))\n",
    "            print(\"the area is :\", l*b)\n",
    "        elif self.s ==\"Square\":\n",
    "            a = int(input(\"Enter the Side :\"))\n",
    "            print(\"the area is :\",a*a)\n",
    "m = shape(\"r\")\n",
    "m.area()"
   ]
  },
  {
   "cell_type": "markdown",
   "id": "e965faf8",
   "metadata": {},
   "source": [
    "Define a Book class with the following attributes: Title, Author (Full name), Price. Define a constructor used to initialize the attributes of the method with values entered by the user.                        \n",
    "Set the View() method to display information for the current book.                        \n",
    "Write a program to testing the Book class.\n"
   ]
  },
  {
   "cell_type": "code",
   "execution_count": 26,
   "id": "60b30fe6",
   "metadata": {},
   "outputs": [
    {
     "name": "stdout",
     "output_type": "stream",
     "text": [
      "title: python\n",
      "Author: zxc\n",
      "price: 200\n",
      "The python of the book authored by Mr. zxc and the price is 200\n"
     ]
    }
   ],
   "source": [
    "class book:\n",
    "    def __init__(self,Title,Author,Price):\n",
    "        self.Title = input(\"title: \")\n",
    "        self.Author = input(\"Author: \")\n",
    "        self.Price = int(input(\"price: \"))\n",
    "                         \n",
    "    def View(self):\n",
    "        print(f\"The {self.Title} of the book authored by Mr. {self.Author} and the price is {self.Price}\")\n",
    "book = book(\"a\",\"b\",2)\n",
    "book.View()"
   ]
  },
  {
   "cell_type": "code",
   "execution_count": 27,
   "id": "fb86c59a",
   "metadata": {},
   "outputs": [
    {
     "name": "stdout",
     "output_type": "stream",
     "text": [
      "Enter the amount to be deposited :1000\n",
      "balance is : 51000\n",
      "Enter the amount to be withdrawal :1000\n",
      "balance is : 49000\n"
     ]
    }
   ],
   "source": [
    "class BankAcc:\n",
    "    def __init__(self,accno,name,balance):\n",
    "        self.accno = accno\n",
    "        self.name = name\n",
    "        self.balance = balance\n",
    "    def Deposit(self):\n",
    "        D = int(input(\"Enter the amount to be deposited :\"))\n",
    "        balance = self.balance+D\n",
    "        print(\"balance is :\",balance)\n",
    "    def Withdrawal(self):\n",
    "        W = int(input(\"Enter the amount to be withdrawal :\"))\n",
    "        balance = self.balance-W\n",
    "        print(\"balance is :\",balance)\n",
    "    def bankfees(self):\n",
    "        bank_fee = self.balance*0.05\n",
    "        print(bank_fee)\n",
    "        \n",
    "acc = BankAcc(123456,\"dinesh\",50000)\n",
    "acc.Deposit()\n",
    "acc.Withdrawal()\n"
   ]
  },
  {
   "cell_type": "code",
   "execution_count": null,
   "id": "f3b51385",
   "metadata": {},
   "outputs": [],
   "source": []
  }
 ],
 "metadata": {
  "kernelspec": {
   "display_name": "Python 3",
   "language": "python",
   "name": "python3"
  },
  "language_info": {
   "codemirror_mode": {
    "name": "ipython",
    "version": 3
   },
   "file_extension": ".py",
   "mimetype": "text/x-python",
   "name": "python",
   "nbconvert_exporter": "python",
   "pygments_lexer": "ipython3",
   "version": "3.8.8"
  }
 },
 "nbformat": 4,
 "nbformat_minor": 5
}
