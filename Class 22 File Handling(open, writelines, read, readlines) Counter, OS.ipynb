{
 "cells": [
  {
   "cell_type": "code",
   "execution_count": 1,
   "id": "2245b440",
   "metadata": {},
   "outputs": [],
   "source": [
    "f = open(\"test123.txt\",\"a\")\n",
    "f.writelines([\"cat is sitting \\n\",\"the dog is friendly \\n\"])"
   ]
  },
  {
   "cell_type": "code",
   "execution_count": 3,
   "id": "ba7be671",
   "metadata": {},
   "outputs": [
    {
     "name": "stdout",
     "output_type": "stream",
     "text": [
      "the class is glowingrain is heavy \n",
      "The dog is nice \n",
      "we are the team flash \n",
      "cat is sitting \n",
      "the dog is friendly \n",
      "\n"
     ]
    }
   ],
   "source": [
    "f = open(\"test123.txt\",\"r\")\n",
    "print(f.read())"
   ]
  },
  {
   "cell_type": "code",
   "execution_count": 4,
   "id": "85771175",
   "metadata": {},
   "outputs": [
    {
     "name": "stdout",
     "output_type": "stream",
     "text": [
      "the class is glowingrain is heavy \n",
      "The dog is nice \n",
      "we are the team flash \n",
      "cat is sitting \n",
      "the dog is friendly \n",
      "\n"
     ]
    }
   ],
   "source": [
    "with open(\"test123.txt\",\"r\") as f:\n",
    "    print(f.read())"
   ]
  },
  {
   "cell_type": "code",
   "execution_count": 5,
   "id": "9af956d2",
   "metadata": {},
   "outputs": [],
   "source": [
    "with open(\"test123.txt\",\"w\") as f:\n",
    "    f.writelines([\"today is saturday \\n\",\"we are going to movie \\n\",\"there is some hope \\n\"])"
   ]
  },
  {
   "cell_type": "code",
   "execution_count": 6,
   "id": "b3d5feec",
   "metadata": {},
   "outputs": [
    {
     "name": "stdout",
     "output_type": "stream",
     "text": [
      "today is saturday \n",
      "we are going to movie \n",
      "there is some hope \n",
      "\n"
     ]
    }
   ],
   "source": [
    "with open(\"test123.txt\",\"r\") as f:\n",
    "    print(f.read())"
   ]
  },
  {
   "cell_type": "code",
   "execution_count": 7,
   "id": "b87c03d3",
   "metadata": {},
   "outputs": [
    {
     "name": "stdout",
     "output_type": "stream",
     "text": [
      "today is saturday \n",
      "\n"
     ]
    }
   ],
   "source": [
    "with open (\"test123.txt\",\"r\") as f:\n",
    "    print(f.readline())"
   ]
  },
  {
   "cell_type": "code",
   "execution_count": 8,
   "id": "c88620b2",
   "metadata": {},
   "outputs": [
    {
     "name": "stdout",
     "output_type": "stream",
     "text": [
      "['today is saturday \\n', 'we are going to movie \\n', 'there is some hope \\n']\n"
     ]
    }
   ],
   "source": [
    "with open (\"test123.txt\",\"r\") as f:\n",
    "    print(f.readlines())"
   ]
  },
  {
   "cell_type": "code",
   "execution_count": 10,
   "id": "7c5271f5",
   "metadata": {},
   "outputs": [
    {
     "name": "stdout",
     "output_type": "stream",
     "text": [
      "14\n",
      "\n"
     ]
    }
   ],
   "source": [
    "with open('test123.txt','a+') as f:\n",
    "    print(f.write('so the class \\n'))\n",
    "    print(f.read())"
   ]
  },
  {
   "cell_type": "code",
   "execution_count": 11,
   "id": "eb6ef11e",
   "metadata": {},
   "outputs": [
    {
     "name": "stdout",
     "output_type": "stream",
     "text": [
      "\n",
      "14\n"
     ]
    }
   ],
   "source": [
    "with open('test123.txt','a+') as f:\n",
    "    print(f.read())\n",
    "    print(f.write('so the class \\n'))\n",
    "    "
   ]
  },
  {
   "cell_type": "code",
   "execution_count": 13,
   "id": "ba30e687",
   "metadata": {},
   "outputs": [
    {
     "name": "stdout",
     "output_type": "stream",
     "text": [
      "today is saturday \n",
      "we are going to movie \n",
      "there is some hope \n",
      "so the class \n",
      "so the class \n",
      "\n"
     ]
    }
   ],
   "source": [
    "with open('test123.txt','r') as f:\n",
    "    print(f.read())"
   ]
  },
  {
   "cell_type": "code",
   "execution_count": 14,
   "id": "5e62f32c",
   "metadata": {},
   "outputs": [
    {
     "name": "stdout",
     "output_type": "stream",
     "text": [
      "today is saturday \n",
      "we are going to movie \n",
      "there is some hope \n",
      "so the class \n",
      "so the class \n",
      "\n",
      "21\n"
     ]
    }
   ],
   "source": [
    "with open('test123.txt','r+') as f:\n",
    "    print(f.read())\n",
    "    print(f.write(\"the company is good \\n\"))"
   ]
  },
  {
   "cell_type": "code",
   "execution_count": 15,
   "id": "1ec10ba5",
   "metadata": {},
   "outputs": [
    {
     "name": "stdout",
     "output_type": "stream",
     "text": [
      "today is saturday \n",
      "we are going to movie \n",
      "there is some hope \n",
      "so the class \n",
      "so the class \n",
      "the company is good \n",
      "\n"
     ]
    }
   ],
   "source": [
    "with open('test123.txt','r') as f:\n",
    "    print(f.read())"
   ]
  },
  {
   "cell_type": "code",
   "execution_count": 16,
   "id": "8e5ca1b2",
   "metadata": {},
   "outputs": [
    {
     "name": "stdout",
     "output_type": "stream",
     "text": [
      "\n",
      "16\n"
     ]
    }
   ],
   "source": [
    "with open('test123.txt','w+') as f:\n",
    "    print(f.read())\n",
    "    print(f.write(\"this is london \\n\"))"
   ]
  },
  {
   "cell_type": "code",
   "execution_count": 17,
   "id": "1920e850",
   "metadata": {},
   "outputs": [
    {
     "name": "stdout",
     "output_type": "stream",
     "text": [
      "this is london \n",
      "\n"
     ]
    }
   ],
   "source": [
    "with open('test123.txt','r') as f:\n",
    "    print(f.read())"
   ]
  },
  {
   "cell_type": "code",
   "execution_count": 21,
   "id": "c55c564c",
   "metadata": {},
   "outputs": [
    {
     "name": "stdout",
     "output_type": "stream",
     "text": [
      "\n",
      "16\n",
      "11\n",
      "10\n",
      "9\n"
     ]
    }
   ],
   "source": [
    "with open('test123.txt','w+') as f:\n",
    "    print(f.read())\n",
    "    print(f.write(\"this is london \\n\"))\n",
    "    print(f.write(\" gooog is \\n\"))\n",
    "    print(f.write(\" good is \\n\"))\n",
    "    print(f.write(\" bad is \\n\"))"
   ]
  },
  {
   "cell_type": "code",
   "execution_count": 22,
   "id": "ecc4a09b",
   "metadata": {},
   "outputs": [
    {
     "name": "stdout",
     "output_type": "stream",
     "text": [
      "this is london \n",
      " gooog is \n",
      " good is \n",
      " bad is \n",
      "\n"
     ]
    }
   ],
   "source": [
    "with open('test123.txt','r') as f:\n",
    "    print(f.read())"
   ]
  },
  {
   "cell_type": "code",
   "execution_count": 33,
   "id": "f538cc60",
   "metadata": {},
   "outputs": [
    {
     "data": {
      "text/plain": [
       "' good is \\n'"
      ]
     },
     "execution_count": 33,
     "metadata": {},
     "output_type": "execute_result"
    }
   ],
   "source": [
    "with open(\"test123.txt\",\"r\") as f:\n",
    "    l = f.readlines()\n",
    "l[2]\n",
    "    "
   ]
  },
  {
   "cell_type": "code",
   "execution_count": 34,
   "id": "1974497b",
   "metadata": {},
   "outputs": [
    {
     "name": "stdout",
     "output_type": "stream",
     "text": [
      " good is \n",
      "\n"
     ]
    }
   ],
   "source": [
    "f = open(\"test123.txt\") \n",
    "current_line = 1\n",
    "line = 3\n",
    "for i in f:\n",
    "    if line==current_line:\n",
    "        print(i)\n",
    "        break\n",
    "    current_line = current_line + 1"
   ]
  },
  {
   "cell_type": "markdown",
   "id": "4515e424",
   "metadata": {},
   "source": [
    "WAP to creat a file sports.txt write five sports personalities to that file and read the content as a list."
   ]
  },
  {
   "cell_type": "code",
   "execution_count": 44,
   "id": "a2b6b524",
   "metadata": {},
   "outputs": [],
   "source": [
    "with open(\"sports.txt\",\"x\") as f:\n",
    "    f.writelines([\"Ronaldo \\n\",\"Kholi\\n\",\"MS Dhoni \\n\",\"messi \\n\",\"sachin \\n\"])"
   ]
  },
  {
   "cell_type": "code",
   "execution_count": 45,
   "id": "6b94288f",
   "metadata": {},
   "outputs": [
    {
     "name": "stdout",
     "output_type": "stream",
     "text": [
      "['Ronaldo \\n', 'Kholi\\n', 'MS Dhoni \\n', 'messi \\n', 'sachin \\n']\n"
     ]
    }
   ],
   "source": [
    "with open(\"sports.txt\",\"r\") as f:\n",
    "    print(f.readlines())"
   ]
  },
  {
   "cell_type": "code",
   "execution_count": 46,
   "id": "3fb15bab",
   "metadata": {},
   "outputs": [
    {
     "name": "stdout",
     "output_type": "stream",
     "text": [
      "enter the sports person : sad\n",
      "enter the sports person : sdf\n",
      "enter the sports person : fsd\n",
      "enter the sports person : sdf\n",
      "enter the sports person : sdf\n"
     ]
    }
   ],
   "source": [
    "with open(\"sports1.txt\",\"x\") as f:\n",
    "    for i in range(1,6):\n",
    "        f.write(input(\"enter the sports person : \"))\n",
    "        f.write(\"\\n\")"
   ]
  },
  {
   "cell_type": "code",
   "execution_count": 47,
   "id": "4faaa84c",
   "metadata": {},
   "outputs": [
    {
     "name": "stdout",
     "output_type": "stream",
     "text": [
      "['sad\\n', 'sdf\\n', 'fsd\\n', 'sdf\\n', 'sdf\\n']\n"
     ]
    }
   ],
   "source": [
    "with open(\"sports1.txt\",\"r\") as f:\n",
    "    print(f.readlines())"
   ]
  },
  {
   "cell_type": "code",
   "execution_count": 48,
   "id": "031560e3",
   "metadata": {},
   "outputs": [
    {
     "name": "stdout",
     "output_type": "stream",
     "text": [
      "7\n",
      "Hello \n",
      "This is Delhi \n",
      "This is Paris \n",
      "This is London \n",
      "Today\n"
     ]
    }
   ],
   "source": [
    "L = [\"This is Delhi \\n\", \"This is Paris \\n\", \"This is London \\n\"]\n",
    "\n",
    "with open('5class.txt','x') as file1:\n",
    "    print(file1.write('Hello \\n'))\n",
    "\n",
    "with open(\"5class.txt\", \"a\") as file1:\n",
    "    # Writing data to a file\n",
    "#     file1.write(\"Hello \\n\")\n",
    "    file1.writelines(L)\n",
    "    \n",
    "# Appending to file\n",
    "with open(\"5class.txt\", 'a') as file1:\n",
    "    file1.write(\"Today\")\n",
    "  \n",
    "  \n",
    "# Reading from file\n",
    "with open(\"5class.txt\", \"r\") as file1:\n",
    "    # Reading form a file\n",
    "    print(file1.read())\n"
   ]
  },
  {
   "cell_type": "code",
   "execution_count": 53,
   "id": "3782486a",
   "metadata": {},
   "outputs": [
    {
     "data": {
      "text/plain": [
       "{'Hello': 1,\n",
       " 'This': 3,\n",
       " 'is': 3,\n",
       " 'Delhi': 1,\n",
       " 'Paris': 1,\n",
       " 'London': 1,\n",
       " 'Today': 1}"
      ]
     },
     "execution_count": 53,
     "metadata": {},
     "output_type": "execute_result"
    }
   ],
   "source": [
    "with open('5class.txt','r') as f:\n",
    "    a = f.readlines()\n",
    "l1 = []\n",
    "for i in a:\n",
    "    i = i.replace(\"\\n\",\"\")\n",
    "    #print(i)\n",
    "    l1.append(i)\n",
    "l1\n",
    "l2 = []\n",
    "for i in l1:\n",
    "    j = i.split()\n",
    "    l2.append(j)\n",
    "l3 = []\n",
    "for i in l2:\n",
    "    #print(i)\n",
    "    for j in i:\n",
    "        l3.append(j)\n",
    "l3\n",
    "d= {}\n",
    "for i in l3:\n",
    "    d[i]=l3.count(i)\n",
    "d\n"
   ]
  },
  {
   "cell_type": "code",
   "execution_count": 55,
   "id": "127f1fe2",
   "metadata": {},
   "outputs": [
    {
     "data": {
      "text/plain": [
       "Counter({'Hello': 1,\n",
       "         'This': 3,\n",
       "         'is': 3,\n",
       "         'Delhi': 1,\n",
       "         'Paris': 1,\n",
       "         'London': 1,\n",
       "         'Today': 1})"
      ]
     },
     "execution_count": 55,
     "metadata": {},
     "output_type": "execute_result"
    }
   ],
   "source": [
    "from collections import Counter\n",
    "with open(\"5class.txt\") as f:\n",
    "    a = Counter(f.read().split())\n",
    "a"
   ]
  },
  {
   "cell_type": "code",
   "execution_count": 56,
   "id": "81f871cd",
   "metadata": {},
   "outputs": [
    {
     "data": {
      "text/plain": [
       "Counter({'m': 2, 'a': 2, 'd': 1})"
      ]
     },
     "execution_count": 56,
     "metadata": {},
     "output_type": "execute_result"
    }
   ],
   "source": [
    "s = \"madam\"\n",
    "s = Counter(s)\n",
    "s"
   ]
  },
  {
   "cell_type": "code",
   "execution_count": 57,
   "id": "8257f4ce",
   "metadata": {},
   "outputs": [],
   "source": [
    "import os"
   ]
  },
  {
   "cell_type": "markdown",
   "id": "90d1ad96",
   "metadata": {},
   "source": [
    "os.rename('old file.txt','newfile.txt')\n",
    "os.remove(\"filename.txt\")\n"
   ]
  },
  {
   "cell_type": "markdown",
   "id": "b7309e3b",
   "metadata": {},
   "source": [
    "Q1 to count the number of lines in a text file."
   ]
  },
  {
   "cell_type": "code",
   "execution_count": 71,
   "id": "30329fd9",
   "metadata": {},
   "outputs": [],
   "source": [
    "with open (\"test12.txt\",\"x\") as f:\n",
    "    f.writelines([\"This is Delhi \\n\", \"This is Paris \\n\", \"This is London \\n\",\"we are the team flash \\n\"])"
   ]
  },
  {
   "cell_type": "code",
   "execution_count": 72,
   "id": "a5a394d9",
   "metadata": {},
   "outputs": [
    {
     "name": "stdout",
     "output_type": "stream",
     "text": [
      "the number of line in text file is :  4\n"
     ]
    }
   ],
   "source": [
    "c =0\n",
    "with open(\"test12.txt\",\"r\") as g:\n",
    "    for i in g:\n",
    "        c=c+1\n",
    "print(\"the number of line in text file is : \",c)"
   ]
  },
  {
   "cell_type": "code",
   "execution_count": 93,
   "id": "e12241cc",
   "metadata": {},
   "outputs": [
    {
     "name": "stdout",
     "output_type": "stream",
     "text": [
      "['This is Delhi \\n', 'This is Paris \\n', 'This is London \\n', 'we are the team flash \\n']\n"
     ]
    },
    {
     "data": {
      "text/plain": [
       "4"
      ]
     },
     "execution_count": 93,
     "metadata": {},
     "output_type": "execute_result"
    }
   ],
   "source": [
    "with open(\"test12.txt\",\"r\") as f:\n",
    "    l = f.readlines()\n",
    "print(l)\n",
    "len(l)"
   ]
  },
  {
   "cell_type": "markdown",
   "id": "f2b0ca92",
   "metadata": {},
   "source": [
    "Q2 WAP to print corresponding lines of the two files."
   ]
  },
  {
   "cell_type": "code",
   "execution_count": 69,
   "id": "c8fa1baa",
   "metadata": {},
   "outputs": [],
   "source": [
    "with open (\"t.txt\",\"x\") as f:\n",
    "    f.writelines([\"This is Delhi \\n\", \"This is Paris \\n\", \"This is London \\n\"])"
   ]
  },
  {
   "cell_type": "code",
   "execution_count": 70,
   "id": "45c753e7",
   "metadata": {},
   "outputs": [],
   "source": [
    "with open (\"e.txt\",\"x\") as f:\n",
    "    f.writelines([\"rain is heavy \\n\", \"The dog is nice \\n\", \"we are the team flash \\n\"])"
   ]
  },
  {
   "cell_type": "code",
   "execution_count": 79,
   "id": "3923698d",
   "metadata": {},
   "outputs": [
    {
     "name": "stdout",
     "output_type": "stream",
     "text": [
      "This is Delhi \n",
      " rain is heavy \n",
      "\n",
      "This is Paris \n",
      " The dog is nice \n",
      "\n",
      "This is London \n",
      " we are the team flash \n",
      "\n"
     ]
    }
   ],
   "source": [
    "with open(\"t.txt\",\"r\") as f, open(\"e.txt\",'r') as g:\n",
    "    for l1,l2 in zip(f,g):       \n",
    "        print(l1,l2)"
   ]
  },
  {
   "cell_type": "code",
   "execution_count": null,
   "id": "23c51606",
   "metadata": {},
   "outputs": [],
   "source": [
    "list(map(lambda x,y:{x:y},l,l1))"
   ]
  },
  {
   "cell_type": "code",
   "execution_count": null,
   "id": "72dfcd31",
   "metadata": {},
   "outputs": [],
   "source": [
    "list(zip(l,l1))"
   ]
  }
 ],
 "metadata": {
  "kernelspec": {
   "display_name": "Python 3",
   "language": "python",
   "name": "python3"
  },
  "language_info": {
   "codemirror_mode": {
    "name": "ipython",
    "version": 3
   },
   "file_extension": ".py",
   "mimetype": "text/x-python",
   "name": "python",
   "nbconvert_exporter": "python",
   "pygments_lexer": "ipython3",
   "version": "3.8.8"
  }
 },
 "nbformat": 4,
 "nbformat_minor": 5
}
